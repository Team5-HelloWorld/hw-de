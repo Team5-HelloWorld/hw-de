{
 "cells": [
  {
   "cell_type": "markdown",
   "metadata": {},
   "source": [
    "# 네이버 키워드 = 텐트"
   ]
  },
  {
   "cell_type": "code",
   "execution_count": 1,
   "metadata": {},
   "outputs": [],
   "source": [
    "import sys\n",
    "import os\n",
    "import pymysql\n",
    "import base64\n",
    "import pandas as pd\n",
    "import numpy as np\n",
    "import json\n",
    "import requests\n",
    "from bs4 import BeautifulSoup as BS\n",
    "from urllib.request import Request, urlopen\n",
    "import lxml.html\n",
    "import re\n",
    "import pickle\n",
    "import pyarrow.parquet as pq\n",
    "from pyarrow import csv\n",
    "import pandavro\n",
    "import urllib.request\n",
    "from tqdm import tqdm_notebook\n",
    "import boto3\n",
    "import mimetypes"
   ]
  },
  {
   "cell_type": "markdown",
   "metadata": {},
   "source": [
    "# <네이버 쇼핑 텐트 키워드로 검색되는 상품 5개 페이지의 상품 정보 받기>"
   ]
  },
  {
   "cell_type": "code",
   "execution_count": 125,
   "metadata": {},
   "outputs": [],
   "source": [
    "def get_prdinfo_5pages_to_DF():\n",
    "    cookies = {\n",
    "    'NNB': 'IDMGADL3MHIWC',\n",
    "    'AD_SHP_BID': '27',\n",
    "    '_ga_4BKHBFKFK0': 'GS1.1.1642402376.2.1.1642402379.0',\n",
    "    'ASID': 'dc763f370000017e66d652af00000061',\n",
    "    'MM_NEW': '1',\n",
    "    'NFS': '2',\n",
    "    '_ga': 'GA1.2.2106199447.1642400290',\n",
    "    '_ga_7VKFYR6RV1': 'GS1.1.1645429964.2.0.1645429964.60',\n",
    "    'autocomplete': 'use',\n",
    "    'nx_ssl': '2',\n",
    "    'page_uid': 'hFcvXlprvOsss5f/aj0ssssssSK-209943',\n",
    "    'spage_uid': 'hFcvXlprvOsss5f%2Faj0ssssssSK-209943',\n",
    "    'sus_val': 'olgrQbsbxvxSrOHxCJov72nv',\n",
    "    '_naver_usersession_': 'VzGETUYwS8AzxUKZdNDVv1WF',\n",
    "    'ncpa': '6148|l2e3zkv4|cdf8e41eb25f6af897ae99fe3fa6ed973aebe219|s_124fd409a50b|c1c4719e7921bf013624130d6d96c1956ac7b3b2:159419|l2q3leqw|d29d637475c3859c3ff8bdfddc0341f69b41cec3|s_6cfaa325694b39|f125304f5ffe9eeec2daa4863270e549263696b8:95694|l2qwxs2g|0a14593f652c2860f87deddbfb8959322e0dab93|null|8c263089a86214b3774ae7a32b66c2dbfb7f7f11',\n",
    "    }\n",
    "\n",
    "    headers = {\n",
    "        'authority': 'search.shopping.naver.com',\n",
    "        'accept': 'application/json, text/plain, */*',\n",
    "        'accept-language': 'ko-KR,ko;q=0.9,en-US;q=0.8,en;q=0.7',\n",
    "        # Requests sorts cookies= alphabetically\n",
    "        # 'cookie': 'NNB=IDMGADL3MHIWC; AD_SHP_BID=27; _ga_4BKHBFKFK0=GS1.1.1642402376.2.1.1642402379.0; ASID=dc763f370000017e66d652af00000061; MM_NEW=1; NFS=2; _ga=GA1.2.2106199447.1642400290; _ga_7VKFYR6RV1=GS1.1.1645429964.2.0.1645429964.60; autocomplete=use; nx_ssl=2; page_uid=hFcvXlprvOsss5f/aj0ssssssSK-209943; spage_uid=hFcvXlprvOsss5f%2Faj0ssssssSK-209943; sus_val=olgrQbsbxvxSrOHxCJov72nv; _naver_usersession_=VzGETUYwS8AzxUKZdNDVv1WF; ncpa=6148|l2e3zkv4|cdf8e41eb25f6af897ae99fe3fa6ed973aebe219|s_124fd409a50b|c1c4719e7921bf013624130d6d96c1956ac7b3b2:159419|l2q3leqw|d29d637475c3859c3ff8bdfddc0341f69b41cec3|s_6cfaa325694b39|f125304f5ffe9eeec2daa4863270e549263696b8:95694|l2qwxs2g|0a14593f652c2860f87deddbfb8959322e0dab93|null|8c263089a86214b3774ae7a32b66c2dbfb7f7f11',\n",
    "        'logic': 'PART',\n",
    "        'referer': 'https://search.shopping.naver.com/search/all?frm=NVSCTAB&origQuery=%ED%85%90%ED%8A%B8&pagingIndex=1&pagingSize=40&productSet=total&query=%ED%85%90%ED%8A%B8&sort=rel&timestamp=&viewType=list',\n",
    "        'sec-ch-ua': '\" Not A;Brand\";v=\"99\", \"Chromium\";v=\"100\", \"Google Chrome\";v=\"100\"',\n",
    "        'sec-ch-ua-mobile': '?0',\n",
    "        'sec-ch-ua-platform': '\"Windows\"',\n",
    "        'sec-fetch-dest': 'empty',\n",
    "        'sec-fetch-mode': 'cors',\n",
    "        'sec-fetch-site': 'same-origin',\n",
    "        'user-agent': 'Mozilla/5.0 (Windows NT 10.0; Win64; x64) AppleWebKit/537.36 (KHTML, like Gecko) Chrome/100.0.4896.127 Safari/537.36',\n",
    "    }\n",
    "    \n",
    "    params = {\n",
    "            'sort': 'rel',\n",
    "            'pagingIndex': '',\n",
    "            'pagingSize': '40',\n",
    "            'viewType': 'list',\n",
    "            'productSet': 'total',\n",
    "            'deliveryFee': '',\n",
    "            'deliveryTypeValue': '',\n",
    "            'frm': 'NVSCTAB',\n",
    "            'query': '텐트',\n",
    "            'origQuery': '텐트',\n",
    "            'iq': '',\n",
    "            'eq': '',\n",
    "            'xq': '',\n",
    "        }\n",
    "    \n",
    "    \n",
    "    list_5_pages = []\n",
    "    for i in range(1, 6): \n",
    "        params['pagingIndex'] = i\n",
    "        response = requests.get('https://search.shopping.naver.com/api/search/all', \n",
    "                                params=params, cookies=cookies, headers=headers)\n",
    "        itemlist = json.loads(response.text)\n",
    "        \n",
    "        list_page_i = []           \n",
    "        for j in range(len(itemlist['shoppingResult']['products'])):       \n",
    "            \n",
    "            list_by_page = []\n",
    "\n",
    "            # id\n",
    "            list_by_page.append(itemlist['shoppingResult']['products'][j]['id'])\n",
    "\n",
    "            # 상품명\n",
    "            list_by_page.append(itemlist['shoppingResult']['products'][j]['productTitle'])\n",
    "\n",
    "            # 가격\n",
    "            list_by_page.append(itemlist['shoppingResult']['products'][j]['price'])\n",
    "\n",
    "            # 평점\n",
    "            list_by_page.append(itemlist['shoppingResult']['products'][j]['scoreInfo'])\n",
    "\n",
    "            # 상품 등록일\n",
    "            list_by_page.append(itemlist['shoppingResult']['products'][j]['openDate'])\n",
    "\n",
    "            # review summary\n",
    "            list_by_page.append(itemlist['shoppingResult']['products'][j]['smryReview'])\n",
    "            \n",
    "            # 상품의 리뷰 수\n",
    "            list_by_page.append(itemlist['shoppingResult']['products'][j]['reviewCountSum'])\n",
    "\n",
    "            list_page_i.append(list_by_page)\n",
    "        list_5_pages.append(list_page_i)\n",
    "        \n",
    "    \n",
    "    cols = ['id', 'name', 'price', 'rate', 'uploaded_date', 'review_summary', 'num_of_reviews']\n",
    "    list_df = []\n",
    "    for i in range(0, 5):\n",
    "        list_df.append(pd.DataFrame(list_5_pages[i], columns = cols))\n",
    "    df_prd_info = pd.concat(list_df)\n",
    "    return df_prd_info.reset_index(drop=True)  "
   ]
  },
  {
   "cell_type": "code",
   "execution_count": 126,
   "metadata": {},
   "outputs": [],
   "source": [
    "data = get_prdinfo_5pages_to_DF()"
   ]
  },
  {
   "cell_type": "code",
   "execution_count": 5,
   "metadata": {},
   "outputs": [
    {
     "name": "stdout",
     "output_type": "stream",
     "text": [
      "<class 'pandas.core.frame.DataFrame'>\n",
      "RangeIndex: 200 entries, 0 to 199\n",
      "Data columns (total 7 columns):\n",
      " #   Column          Non-Null Count  Dtype  \n",
      "---  ------          --------------  -----  \n",
      " 0   id              200 non-null    object \n",
      " 1   name            200 non-null    object \n",
      " 2   price           200 non-null    object \n",
      " 3   rate            197 non-null    float64\n",
      " 4   uploaded_date   200 non-null    object \n",
      " 5   review_summary  200 non-null    object \n",
      " 6   num_of_reviews  200 non-null    int64  \n",
      "dtypes: float64(1), int64(1), object(5)\n",
      "memory usage: 11.1+ KB\n"
     ]
    }
   ],
   "source": [
    "data.info()"
   ]
  },
  {
   "cell_type": "code",
   "execution_count": null,
   "metadata": {},
   "outputs": [],
   "source": []
  },
  {
   "cell_type": "markdown",
   "metadata": {},
   "source": [
    "### DB에 적재 위해 data의 nan 값을 None으로 대체"
   ]
  },
  {
   "attachments": {
    "image.png": {
     "image/png": "[encoded data removed]"
    }
   },
   "cell_type": "markdown",
   "metadata": {},
   "source": [
    "![image.png](attachment:image.png)"
   ]
  },
  {
   "cell_type": "code",
   "execution_count": 35,
   "metadata": {},
   "outputs": [
    {
     "data": {
      "text/html": [
       "<div>\n",
       "<style scoped>\n",
       "    .dataframe tbody tr th:only-of-type {\n",
       "        vertical-align: middle;\n",
       "    }\n",
       "\n",
       "    .dataframe tbody tr th {\n",
       "        vertical-align: top;\n",
       "    }\n",
       "\n",
       "    .dataframe thead th {\n",
       "        text-align: right;\n",
       "    }\n",
       "</style>\n",
       "<table border=\"1\" class=\"dataframe\">\n",
       "  <thead>\n",
       "    <tr style=\"text-align: right;\">\n",
       "      <th></th>\n",
       "      <th>id</th>\n",
       "      <th>name</th>\n",
       "      <th>price</th>\n",
       "      <th>rate</th>\n",
       "      <th>uploaded_date</th>\n",
       "      <th>review_summary</th>\n",
       "      <th>num_of_reviews</th>\n",
       "    </tr>\n",
       "  </thead>\n",
       "  <tbody>\n",
       "    <tr>\n",
       "      <th>74</th>\n",
       "      <td>32255706618</td>\n",
       "      <td>카즈미 아크로 돔 엣지 K221T3T06 3-4인용</td>\n",
       "      <td>258700</td>\n",
       "      <td>None</td>\n",
       "      <td>20220510142121</td>\n",
       "      <td></td>\n",
       "      <td>0</td>\n",
       "    </tr>\n",
       "    <tr>\n",
       "      <th>130</th>\n",
       "      <td>84208833096</td>\n",
       "      <td>노스피크 에어텐트 A7 A6 A5 옐로우스톤하이브리드 에어리빙쉘터 도킹쉘터 네오어닝</td>\n",
       "      <td>1290000</td>\n",
       "      <td>None</td>\n",
       "      <td>20220512152938</td>\n",
       "      <td></td>\n",
       "      <td>0</td>\n",
       "    </tr>\n",
       "    <tr>\n",
       "      <th>149</th>\n",
       "      <td>83944706475</td>\n",
       "      <td>돔쉘터 쉘터텐트 글램핑 장박 대형 텐트</td>\n",
       "      <td>189000</td>\n",
       "      <td>None</td>\n",
       "      <td>20220311160120</td>\n",
       "      <td></td>\n",
       "      <td>0</td>\n",
       "    </tr>\n",
       "  </tbody>\n",
       "</table>\n",
       "</div>"
      ],
      "text/plain": [
       "              id                                            name    price  \\\n",
       "74   32255706618                    카즈미 아크로 돔 엣지 K221T3T06 3-4인용   258700   \n",
       "130  84208833096  노스피크 에어텐트 A7 A6 A5 옐로우스톤하이브리드 에어리빙쉘터 도킹쉘터 네오어닝  1290000   \n",
       "149  83944706475                           돔쉘터 쉘터텐트 글램핑 장박 대형 텐트   189000   \n",
       "\n",
       "     rate   uploaded_date review_summary  num_of_reviews  \n",
       "74   None  20220510142121                              0  \n",
       "130  None  20220512152938                              0  \n",
       "149  None  20220311160120                              0  "
      ]
     },
     "execution_count": 35,
     "metadata": {},
     "output_type": "execute_result"
    }
   ],
   "source": [
    "data[data['rate'].isnull()]"
   ]
  },
  {
   "cell_type": "code",
   "execution_count": 41,
   "metadata": {},
   "outputs": [],
   "source": [
    "data = data.replace(np.nan, 'Null')"
   ]
  },
  {
   "cell_type": "code",
   "execution_count": 42,
   "metadata": {},
   "outputs": [
    {
     "data": {
      "text/html": [
       "<div>\n",
       "<style scoped>\n",
       "    .dataframe tbody tr th:only-of-type {\n",
       "        vertical-align: middle;\n",
       "    }\n",
       "\n",
       "    .dataframe tbody tr th {\n",
       "        vertical-align: top;\n",
       "    }\n",
       "\n",
       "    .dataframe thead th {\n",
       "        text-align: right;\n",
       "    }\n",
       "</style>\n",
       "<table border=\"1\" class=\"dataframe\">\n",
       "  <thead>\n",
       "    <tr style=\"text-align: right;\">\n",
       "      <th></th>\n",
       "      <th>id</th>\n",
       "      <th>name</th>\n",
       "      <th>price</th>\n",
       "      <th>rate</th>\n",
       "      <th>uploaded_date</th>\n",
       "      <th>review_summary</th>\n",
       "      <th>num_of_reviews</th>\n",
       "    </tr>\n",
       "  </thead>\n",
       "  <tbody>\n",
       "  </tbody>\n",
       "</table>\n",
       "</div>"
      ],
      "text/plain": [
       "Empty DataFrame\n",
       "Columns: [id, name, price, rate, uploaded_date, review_summary, num_of_reviews]\n",
       "Index: []"
      ]
     },
     "execution_count": 42,
     "metadata": {},
     "output_type": "execute_result"
    }
   ],
   "source": [
    "data[data['rate'].isnull()]"
   ]
  },
  {
   "cell_type": "markdown",
   "metadata": {},
   "source": [
    "# DB 연결"
   ]
  },
  {
   "cell_type": "code",
   "execution_count": 7,
   "metadata": {},
   "outputs": [],
   "source": [
    "try:\n",
    "    con = pymysql.connect(host='xx.ap-northeast-2.rds.amazonaws.com', user='xx', password='xx' \n",
    "                          ,port=3306, database = 'crawling', use_unicode=True, charset='utf8')\n",
    "    cur = con.cursor()\n",
    "except Exception as e:\n",
    "    print (e)"
   ]
  },
  {
   "cell_type": "markdown",
   "metadata": {},
   "source": [
    "# DB 저장"
   ]
  },
  {
   "cell_type": "code",
   "execution_count": 8,
   "metadata": {},
   "outputs": [],
   "source": [
    "sql = \"\"\"INSERT INTO tent_master (id, name, price, rate, uploaded_date, review_summary, num_of_reviews) VALUES\n",
    "         (%s, %s, %s, %s, %s, %s, %s) \"\"\""
   ]
  },
  {
   "cell_type": "code",
   "execution_count": 43,
   "metadata": {},
   "outputs": [
    {
     "data": {
      "application/vnd.jupyter.widget-view+json": {
       "model_id": "0e9cd34182fc4a49be2e5852e3fc44c0",
       "version_major": 2,
       "version_minor": 0
      },
      "text/plain": [
       "HBox(children=(IntProgress(value=1, bar_style='info', max=1), HTML(value='')))"
      ]
     },
     "metadata": {},
     "output_type": "display_data"
    },
    {
     "name": "stdout",
     "output_type": "stream",
     "text": [
      "\n"
     ]
    }
   ],
   "source": [
    "for row in tqdm_notebook(data.iterrows()):\n",
    "    try:\n",
    "        cur.execute(sql, row[1].tolist())\n",
    "    except Exception as e:\n",
    "        print(e)\n",
    "        break"
   ]
  },
  {
   "cell_type": "code",
   "execution_count": 44,
   "metadata": {},
   "outputs": [],
   "source": [
    "con.commit()"
   ]
  },
  {
   "cell_type": "code",
   "execution_count": 128,
   "metadata": {},
   "outputs": [],
   "source": [
    "df = data.copy()"
   ]
  },
  {
   "cell_type": "code",
   "execution_count": 10,
   "metadata": {},
   "outputs": [],
   "source": [
    "df = df.astype({\"price\": \"int64\", \"uploaded_date\": 'datetime64[ns]'}, errors='ignore')"
   ]
  },
  {
   "cell_type": "code",
   "execution_count": 5,
   "metadata": {
    "collapsed": true
   },
   "outputs": [
    {
     "ename": "NameError",
     "evalue": "name 'df' is not defined",
     "output_type": "error",
     "traceback": [
      "\u001b[0;31m---------------------------------------------------------------------------\u001b[0m",
      "\u001b[0;31mNameError\u001b[0m                                 Traceback (most recent call last)",
      "\u001b[0;32m<ipython-input-5-2d0f759a9595>\u001b[0m in \u001b[0;36m<module>\u001b[0;34m()\u001b[0m\n\u001b[0;32m----> 1\u001b[0;31m \u001b[0mdf\u001b[0m\u001b[0;34m.\u001b[0m\u001b[0mto_parquet\u001b[0m\u001b[0;34m(\u001b[0m\u001b[0;34m'./product_information.parquet'\u001b[0m\u001b[0;34m,\u001b[0m \u001b[0mcompression\u001b[0m\u001b[0;34m=\u001b[0m\u001b[0;34m'gzip'\u001b[0m\u001b[0;34m)\u001b[0m\u001b[0;34m\u001b[0m\u001b[0m\n\u001b[0m",
      "\u001b[0;31mNameError\u001b[0m: name 'df' is not defined"
     ]
    }
   ],
   "source": [
    "df.to_parquet('./product_information.parquet', compression='gzip')"
   ]
  },
  {
   "cell_type": "code",
   "execution_count": 2,
   "metadata": {},
   "outputs": [],
   "source": [
    "product_information = pd.read_parquet('./product_information.parquet')"
   ]
  },
  {
   "cell_type": "code",
   "execution_count": 3,
   "metadata": {},
   "outputs": [
    {
     "name": "stdout",
     "output_type": "stream",
     "text": [
      "              id                                        name    price  rate  \\\n",
      "0    11180765626                        로티캠프 원터치 육각 텐트 4-5인용    73880   4.7   \n",
      "1    21722796480                  블루오션 그라비티 패밀리 원터치 텐트 4-5인용    74900   4.8   \n",
      "2    27412943522                    DOD 가마보코텐트 3M T5-689 5인용  1080000   4.9   \n",
      "3    14981947918                     아이두젠 패스트캠프 원터치 육각텐트 오토6    66380   4.7   \n",
      "4    19377657299                       로티캠프 빅스퀘어 원터치텐트 5-6인용   153410   4.7   \n",
      "..           ...                                         ...      ...   ...   \n",
      "195  18863778738                 콜맨 터프돔 3025  플러스 2000033133   503000   4.8   \n",
      "196  32320864744                 노스피크 에어리빙쉘터 레이븐그레이 (4인용 텐트)   749000   NaN   \n",
      "197  32695616618                   코베아 BTS-ON 레트로 하우스 텐트 4인용   890000   NaN   \n",
      "198  83725038236  코베아 몬타나 쉘터 2 / 아이보리 탄 / 미니멀 캠핑 쉘터 / 코베아공식점   480000   4.7   \n",
      "199  83138690669       테라네이션 카우코후 플러스 레카코후 원터치 한강 피크닉 그늘막 텐트   198000   4.9   \n",
      "\n",
      "          uploaded_date                                     review_summary  \\\n",
      "0   2017-03-13 10:26:17  operation`/`조작성`/`설치 철수는 진짜 빠르게할수있어서 좋네요`|`usa...   \n",
      "1   2020-01-09 17:01:58  operation`/`조작성`/`원터치가 설치하고 정리하기도 편해서 넘 마음에 드네...   \n",
      "2   2021-06-02 19:04:34  design`/`디자인`/`실물로 본 카키색 텐트중 월등히 예쁩니다`|`operat...   \n",
      "3   2018-08-06 16:51:42  operation`/`조작성`/`설치할 수 있어서 여행중 잠시 쉬어가기에 좋았습니다...   \n",
      "4   2019-05-20 16:04:40  operation`/`조작성`/`스피드하게 치고 걷고 간편하니 너무 좋더라고요`|`...   \n",
      "..                  ...                                                ...   \n",
      "195 2019-04-23 16:17:38  design`/`디자인`/`설치도 너무 쉽고 디자인도 예쁘고`|`quality`/`...   \n",
      "196 2022-05-13 20:33:18                                                      \n",
      "197 2022-06-01 14:32:28                                                      \n",
      "198 2022-01-12 11:42:53                                                      \n",
      "199 2021-05-18 11:02:59                                                      \n",
      "\n",
      "     num_of_reviews  \n",
      "0              7451  \n",
      "1              4624  \n",
      "2               789  \n",
      "3              7700  \n",
      "4              1679  \n",
      "..              ...  \n",
      "195             106  \n",
      "196               1  \n",
      "197               0  \n",
      "198              31  \n",
      "199              71  \n",
      "\n",
      "[200 rows x 7 columns]\n"
     ]
    }
   ],
   "source": [
    "print(product_information)"
   ]
  },
  {
   "cell_type": "code",
   "execution_count": null,
   "metadata": {},
   "outputs": [],
   "source": []
  },
  {
   "cell_type": "code",
   "execution_count": 127,
   "metadata": {},
   "outputs": [],
   "source": [
    "data.to_csv('./tent_master.csv')"
   ]
  },
  {
   "cell_type": "code",
   "execution_count": null,
   "metadata": {},
   "outputs": [],
   "source": []
  },
  {
   "cell_type": "markdown",
   "metadata": {},
   "source": [
    "### review_top_200"
   ]
  },
  {
   "cell_type": "code",
   "execution_count": 4,
   "metadata": {},
   "outputs": [],
   "source": [
    "review_top_200 = product_information.sort_values(by=['num_of_reviews'], ascending=False)[0:201].copy()"
   ]
  },
  {
   "cell_type": "code",
   "execution_count": 4,
   "metadata": {},
   "outputs": [],
   "source": [
    "review_top_200 = review_top_200[['id', 'num_of_reviews']].copy()"
   ]
  },
  {
   "cell_type": "code",
   "execution_count": 9,
   "metadata": {},
   "outputs": [],
   "source": [
    "review_top_200.to_csv('./review_top_200.csv')"
   ]
  },
  {
   "cell_type": "code",
   "execution_count": 5,
   "metadata": {},
   "outputs": [],
   "source": [
    "review_top_200 = pd.read_csv('./review_top_200.csv')"
   ]
  },
  {
   "cell_type": "markdown",
   "metadata": {},
   "source": [
    "# <상품 id별 리뷰 받기>"
   ]
  },
  {
   "cell_type": "markdown",
   "metadata": {},
   "source": [
    "!!주의사항!! <br>\n",
    "1. 네이버의 정책상 최대 2000개의 리뷰(100 페이지의 양)만을 제공 <br>\n",
    "    -> 자동화 시 전체 리뷰수를 파악한 후 page 범위가 100을 넘지 않도록 설정할 것 <br>\n",
    "2. 100페이지를 한 번에 request 했더니 Connection Error 발생. 최대 크롤링 횟수를 초과한 것으로 보임<br>\n",
    "    -> 상품 id와 페이지 숫자를 가지고 한 페이지씩(20개 리뷰) 결과 반환하도록 함"
   ]
  },
  {
   "cell_type": "markdown",
   "metadata": {},
   "source": [
    "### 상품id를 넣으면 전체 페이지 수 반환 (네이버에서 허용하는 최대 수는 100)"
   ]
  },
  {
   "cell_type": "code",
   "execution_count": 6,
   "metadata": {},
   "outputs": [],
   "source": [
    "prd_ids = list(product_information['id'])"
   ]
  },
  {
   "cell_type": "code",
   "execution_count": 7,
   "metadata": {},
   "outputs": [
    {
     "data": {
      "text/plain": [
       "['11180765626',\n",
       " '21722796480',\n",
       " '27412943522',\n",
       " '14981947918',\n",
       " '19377657299',\n",
       " '21722689805',\n",
       " '22228742235',\n",
       " '27413049522',\n",
       " '29896064618',\n",
       " '10153311431',\n",
       " '23590593493',\n",
       " '14958064919',\n",
       " '27408394523',\n",
       " '27011310522',\n",
       " '23716114495',\n",
       " '17862518718',\n",
       " '26084698522',\n",
       " '19452840658',\n",
       " '27286796522',\n",
       " '7832428090',\n",
       " '20909208466',\n",
       " '9838430423',\n",
       " '27473162523',\n",
       " '21033853139',\n",
       " '27810512522',\n",
       " '27413093522',\n",
       " '22895277426',\n",
       " '23937348523',\n",
       " '26527693522',\n",
       " '23199854491',\n",
       " '24161809523',\n",
       " '19134145855',\n",
       " '23462593491',\n",
       " '20744829040',\n",
       " '24824177522',\n",
       " '22412166138',\n",
       " '6916437886',\n",
       " '19751131585',\n",
       " '30487095618',\n",
       " '27627425528',\n",
       " '27820960522',\n",
       " '31467035618',\n",
       " '30942124618',\n",
       " '31352879625',\n",
       " '29738100618',\n",
       " '82689513777',\n",
       " '83264816669',\n",
       " '82393642663',\n",
       " '22823538427',\n",
       " '30016082618',\n",
       " '32695611628',\n",
       " '83148546349',\n",
       " '23604329500',\n",
       " '82955658212',\n",
       " '20931662172',\n",
       " '29226921620',\n",
       " '18467395766',\n",
       " '83225694955',\n",
       " '83793773940',\n",
       " '83525540379',\n",
       " '32085914618',\n",
       " '5635138587',\n",
       " '22782215325',\n",
       " '18758198549',\n",
       " '20236533999',\n",
       " '28319029554',\n",
       " '31162042618',\n",
       " '32255706618',\n",
       " '26616009522',\n",
       " '32695607618',\n",
       " '24186170522',\n",
       " '84117124255',\n",
       " '25358774522',\n",
       " '20916304415',\n",
       " '83315735399',\n",
       " '28655168554',\n",
       " '28302445554',\n",
       " '21723341846',\n",
       " '30644336618',\n",
       " '32697816619',\n",
       " '32693638622',\n",
       " '14540253567',\n",
       " '83422776995',\n",
       " '83899421882',\n",
       " '23461849498',\n",
       " '83031881107',\n",
       " '28288688554',\n",
       " '23397767490',\n",
       " '83999401414',\n",
       " '83993376197',\n",
       " '9664895343',\n",
       " '30284087618',\n",
       " '19719220628',\n",
       " '29139794618',\n",
       " '31354254619',\n",
       " '26785282522',\n",
       " '29896074618',\n",
       " '6536018146',\n",
       " '82549057112',\n",
       " '24095009522',\n",
       " '31353868619',\n",
       " '20189886832',\n",
       " '32690336618',\n",
       " '32029351618',\n",
       " '9802803350',\n",
       " '31353868618',\n",
       " '21628672437',\n",
       " '27492622524',\n",
       " '23563724495',\n",
       " '82891372117',\n",
       " '28726929559',\n",
       " '29045941587',\n",
       " '13603730063',\n",
       " '21051918896',\n",
       " '31352773626',\n",
       " '31522594618',\n",
       " '24094588525',\n",
       " '23591343490',\n",
       " '31657993623',\n",
       " '83634554193',\n",
       " '83439840623',\n",
       " '27404807524',\n",
       " '21934629297',\n",
       " '32086697619',\n",
       " '30456354618',\n",
       " '18484885059',\n",
       " '82036697825',\n",
       " '32320834987',\n",
       " '23714849492',\n",
       " '27682886524',\n",
       " '31889132619',\n",
       " '26525843527',\n",
       " '6958249943',\n",
       " '28679375559',\n",
       " '83754173610',\n",
       " '82638386684',\n",
       " '31926882622',\n",
       " '18860876586',\n",
       " '82858806574',\n",
       " '22423011489',\n",
       " '27775349522',\n",
       " '80683647705',\n",
       " '19718847786',\n",
       " '21060724427',\n",
       " '83944706475',\n",
       " '9911090454',\n",
       " '29833014618',\n",
       " '14616531620',\n",
       " '82531362591',\n",
       " '82410761769',\n",
       " '27667832523',\n",
       " '83488842920',\n",
       " '32088791621',\n",
       " '27502249523',\n",
       " '29124655587',\n",
       " '24162147522',\n",
       " '83968375366',\n",
       " '22228727041',\n",
       " '31925750618',\n",
       " '84130072820',\n",
       " '9885364472',\n",
       " '28789247555',\n",
       " '84208833096',\n",
       " '20003346621',\n",
       " '26919382522',\n",
       " '23537066490',\n",
       " '11668040577',\n",
       " '83021672068',\n",
       " '25260269524',\n",
       " '84019716810',\n",
       " '25551982663',\n",
       " '83682967302',\n",
       " '83133976069',\n",
       " '80242009666',\n",
       " '19135523311',\n",
       " '83445427577',\n",
       " '83299373263',\n",
       " '26657747530',\n",
       " '83017792351',\n",
       " '31805270618',\n",
       " '23839725522',\n",
       " '23189436491',\n",
       " '22302758247',\n",
       " '26612456523',\n",
       " '32088988619',\n",
       " '82421294953',\n",
       " '31925967629',\n",
       " '32695545619',\n",
       " '27348229268',\n",
       " '83889881331',\n",
       " '83317349252',\n",
       " '23937067525',\n",
       " '82987837368',\n",
       " '27471175525',\n",
       " '28724918555',\n",
       " '18863778738',\n",
       " '32320864744',\n",
       " '32695616618',\n",
       " '83725038236',\n",
       " '83138690669']"
      ]
     },
     "execution_count": 7,
     "metadata": {},
     "output_type": "execute_result"
    }
   ],
   "source": [
    "prd_ids"
   ]
  },
  {
   "cell_type": "code",
   "execution_count": 5,
   "metadata": {},
   "outputs": [],
   "source": [
    "def get_page_num(prd_id):\n",
    "    num_of_review = int(product_information[product_information['id'] == prd_id]['num_of_reviews'])\n",
    "    num_of_page_by_20 = num_of_review//20\n",
    "    print(prd_id, ': ', num_of_page_by_20)"
   ]
  },
  {
   "cell_type": "code",
   "execution_count": 6,
   "metadata": {},
   "outputs": [
    {
     "name": "stdout",
     "output_type": "stream",
     "text": [
      "11180765626 :  372\n"
     ]
    }
   ],
   "source": [
    "get_page_num(prd_ids[0])"
   ]
  },
  {
   "cell_type": "code",
   "execution_count": 10,
   "metadata": {},
   "outputs": [
    {
     "name": "stdout",
     "output_type": "stream",
     "text": [
      "9838430423 :  53\n"
     ]
    }
   ],
   "source": [
    "get_page_num('9838430423')"
   ]
  },
  {
   "cell_type": "code",
   "execution_count": null,
   "metadata": {},
   "outputs": [],
   "source": []
  },
  {
   "cell_type": "markdown",
   "metadata": {},
   "source": [
    "### 하나의 페이지의 20개의 리뷰를 DataFrame 형태로 저장"
   ]
  },
  {
   "cell_type": "code",
   "execution_count": 132,
   "metadata": {},
   "outputs": [],
   "source": [
    "def get_reviews_by_page(prd_id, page_num):\n",
    "    cookies = {\n",
    "    'NNB': 'IDMGADL3MHIWC',\n",
    "    'AD_SHP_BID': '27',\n",
    "    '_ga_4BKHBFKFK0': 'GS1.1.1642402376.2.1.1642402379.0',\n",
    "    'ASID': 'dc763f370000017e66d652af00000061',\n",
    "    'MM_NEW': '1',\n",
    "    'NFS': '2',\n",
    "    '_ga': 'GA1.2.2106199447.1642400290',\n",
    "    '_ga_7VKFYR6RV1': 'GS1.1.1645429964.2.0.1645429964.60',\n",
    "    'autocomplete': 'use',\n",
    "    'nx_ssl': '2',\n",
    "    'ncpa': '\"6148|l2e3zkv4|cdf8e41eb25f6af897ae99fe3fa6ed973aebe219|s_124fd409a50b|c1c4719e7921bf013624130d6d96c1956ac7b3b2:95694|l2ucqnlk|51bfe6675daed5b2a745736a747eb9ec6419ddad|95694|0d82818b487a4e234125e83eec99c34021630735\"',\n",
    "    'sus_val': 'S0F1UsdM+HwwniR8Tq3qX19O',\n",
    "    'spage_uid': '',\n",
    "    }\n",
    "\n",
    "    headers = {\n",
    "        'authority': 'search.shopping.naver.com',\n",
    "        'accept': 'application/json, text/plain, */*',\n",
    "        'accept-language': 'ko-KR,ko;q=0.9,en-US;q=0.8,en;q=0.7',\n",
    "        # Requests sorts cookies= alphabetically\n",
    "        # 'cookie': 'NNB=IDMGADL3MHIWC; AD_SHP_BID=27; _ga_4BKHBFKFK0=GS1.1.1642402376.2.1.1642402379.0; ASID=dc763f370000017e66d652af00000061; MM_NEW=1; NFS=2; _ga=GA1.2.2106199447.1642400290; _ga_7VKFYR6RV1=GS1.1.1645429964.2.0.1645429964.60; autocomplete=use; nx_ssl=2; ncpa=\"6148|l2e3zkv4|cdf8e41eb25f6af897ae99fe3fa6ed973aebe219|s_124fd409a50b|c1c4719e7921bf013624130d6d96c1956ac7b3b2:95694|l2ucqnlk|51bfe6675daed5b2a745736a747eb9ec6419ddad|95694|0d82818b487a4e234125e83eec99c34021630735\"; sus_val=S0F1UsdM+HwwniR8Tq3qX19O; spage_uid=',\n",
    "        'referer': 'https://search.shopping.naver.com/catalog/11180765626?query=%ED%85%90%ED%8A%B8&NaPm=ct%3Dl2pqilo8%7Cci%3D692b32d7f59460de272136a51743c0fdfcd658f0%7Ctr%3Dslsl%7Csn%3D95694%7Chk%3D8608eff24f89eb17897e60155517dc3307ffcd6e',\n",
    "        'sec-ch-ua': '\" Not A;Brand\";v=\"99\", \"Chromium\";v=\"101\", \"Google Chrome\";v=\"101\"',\n",
    "        'sec-ch-ua-mobile': '?0',\n",
    "        'sec-ch-ua-platform': '\"Windows\"',\n",
    "        'sec-fetch-dest': 'empty',\n",
    "        'sec-fetch-mode': 'cors',\n",
    "        'sec-fetch-site': 'same-origin',\n",
    "        'user-agent': 'Mozilla/5.0 (Windows NT 10.0; Win64; x64) AppleWebKit/537.36 (KHTML, like Gecko) Chrome/101.0.4951.54 Safari/537.36',\n",
    "    }\n",
    "\n",
    "    params = {\n",
    "        'nvMid': prd_id,\n",
    "        'reviewType': 'ALL',\n",
    "        'sort': 'QUALITY',\n",
    "        'isNeedAggregation': 'N',\n",
    "        'isApplyFilter': 'N',\n",
    "        'page': page_num,\n",
    "        'pageSize': '20',\n",
    "    }\n",
    "\n",
    "    response = requests.get('https://search.shopping.naver.com/api/review', params=params, cookies=cookies, headers=headers)\n",
    "    reviewlist = json.loads(response.text)\n",
    "    \n",
    "    list_reviews = []\n",
    "    \n",
    "    for i in range(0, 20):\n",
    "        \n",
    "        list_review = []\n",
    "        \n",
    "        # prd_id\n",
    "        if 'matchNvMid' in reviewlist['reviews'][i]:\n",
    "            list_review.append(reviewlist['reviews'][i]['matchNvMid'])\n",
    "        else:\n",
    "            list_review.append(\"NaN\")\n",
    "        \n",
    "        # prd_url\n",
    "        if 'pageUrl' in reviewlist['reviews'][i]:\n",
    "            list_review.append(reviewlist['reviews'][i]['pageUrl'])\n",
    "        else:\n",
    "            list_review.append(\"NaN\")\n",
    "            \n",
    "        # user_id\n",
    "        if 'userId' in reviewlist['reviews'][i]:\n",
    "            list_review.append(reviewlist['reviews'][i]['userId'])\n",
    "        else:\n",
    "            list_review.append(\"NaN\")\n",
    "        \n",
    "        # content\n",
    "        if 'content' in reviewlist['reviews'][i]:\n",
    "            list_review.append(reviewlist['reviews'][i]['content'])\n",
    "        else:\n",
    "            list_review.append(\"NaN\")\n",
    "        \n",
    "        # register_date\n",
    "        if 'registerDate' in reviewlist['reviews'][i]:\n",
    "            list_review.append(reviewlist['reviews'][i]['registerDate'])\n",
    "        else:\n",
    "            list_review.append(\"NaN\")\n",
    "        \n",
    "        # quality_score\n",
    "        if 'qualityScore' in reviewlist['reviews'][i]:\n",
    "            list_review.append(reviewlist['reviews'][i]['qualityScore'])\n",
    "        else:\n",
    "            list_review.append(\"NaN\")\n",
    "            \n",
    "        # star_score\n",
    "        if 'starScore' in reviewlist['reviews'][i]:\n",
    "            list_review.append(reviewlist['reviews'][i]['starScore'])\n",
    "        else:\n",
    "            list_review.append(\"NaN\")\n",
    "        \n",
    "        # image_url\n",
    "        if 'images' in reviewlist['reviews'][i]:\n",
    "            list_review.append(reviewlist['reviews'][i]['images'])\n",
    "        else:\n",
    "            list_review.append(\"NaN\")\n",
    "        \n",
    "        list_reviews.append(list_review)\n",
    "    \n",
    "    cols = ['prd_id', 'prd_url', 'user_id', 'review', 'uploaded_date', 'quality_score', 'star_score', 'image_url']   \n",
    "    return pd.DataFrame(list_reviews, columns = cols)"
   ]
  },
  {
   "cell_type": "code",
   "execution_count": 124,
   "metadata": {},
   "outputs": [],
   "source": []
  },
  {
   "cell_type": "code",
   "execution_count": 116,
   "metadata": {},
   "outputs": [],
   "source": [
    "\"\"\"def save_to_s3(p1_col, prd_id):\n",
    "    s3 = boto3.client('s3')\n",
    "    bucket_name = 'xx'\n",
    "    bucket_path = \"tent\"\n",
    "    aws_access_key_id = 'xx'\n",
    "    aws_secret_access_key= 'xx'\n",
    "    \n",
    "    total_img_num = 0\n",
    "    for idx in range(len(p1['image_url'])):\n",
    "        url = p1['image_url'][idx][0]\n",
    "        if len(url) > 1:\n",
    "            imageResponse = requests.get(url, stream=True).raw\n",
    "            file_name = \"{}/{}-{}.jpg\".format(bucket_path, prd_id, idx)\n",
    "            s3.upload_fileobj(imageResponse, bucket_name, file_name)\n",
    "            total_img_num += 1\n",
    "    print(total_img_num)\"\"\""
   ]
  },
  {
   "cell_type": "code",
   "execution_count": 133,
   "metadata": {},
   "outputs": [
    {
     "ename": "NameError",
     "evalue": "name 'get_page_num' is not defined",
     "output_type": "error",
     "traceback": [
      "\u001b[0;31m---------------------------------------------------------------------------\u001b[0m",
      "\u001b[0;31mNameError\u001b[0m                                 Traceback (most recent call last)",
      "\u001b[0;32m<ipython-input-133-b4cb0d2b8090>\u001b[0m in \u001b[0;36m<module>\u001b[0;34m()\u001b[0m\n\u001b[0;32m----> 1\u001b[0;31m \u001b[0mget_page_num\u001b[0m\u001b[0;34m(\u001b[0m\u001b[0;34m'29896064618'\u001b[0m\u001b[0;34m)\u001b[0m\u001b[0;34m\u001b[0m\u001b[0m\n\u001b[0m",
      "\u001b[0;31mNameError\u001b[0m: name 'get_page_num' is not defined"
     ]
    }
   ],
   "source": [
    "get_page_num('29896064618')"
   ]
  },
  {
   "cell_type": "markdown",
   "metadata": {},
   "source": [
    "# DF 병합"
   ]
  },
  {
   "cell_type": "code",
   "execution_count": 134,
   "metadata": {},
   "outputs": [],
   "source": [
    "def review_save(prd_id, page_end_num):\n",
    "    list_df = []\n",
    "    for i in range(1, page_end_num+1):\n",
    "        list_df.append(get_reviews_by_page(prd_id, i))\n",
    "    df = pd.concat(list_df)\n",
    "    df['image_url'] = df['image_url'].astype(str)\n",
    "    return df"
   ]
  },
  {
   "cell_type": "markdown",
   "metadata": {},
   "source": [
    "# <RDS mysql에 저장>"
   ]
  },
  {
   "cell_type": "markdown",
   "metadata": {},
   "source": [
    "### DB 정보"
   ]
  },
  {
   "cell_type": "code",
   "execution_count": 60,
   "metadata": {},
   "outputs": [],
   "source": [
    "try:\n",
    "    con = pymysql.connect(host='xx.ap-northeast-2.rds.amazonaws.com', user='xx', password='xx' \n",
    "                          ,port=3306, database = 'crawling', use_unicode=True, charset='utf8')\n",
    "    cur = con.cursor()\n",
    "except Exception as e:\n",
    "    print (e)"
   ]
  },
  {
   "cell_type": "code",
   "execution_count": 61,
   "metadata": {},
   "outputs": [],
   "source": [
    "sql = \"\"\"INSERT INTO tent_review (prd_id, prd_url, user_id, review, uploaded_date, quality_score, star_score, image_url) VALUES\n",
    "         (%s, %s, %s, %s, %s, %s, %s, %s) \"\"\""
   ]
  },
  {
   "cell_type": "markdown",
   "metadata": {},
   "source": [
    "## DB 저장"
   ]
  },
  {
   "cell_type": "code",
   "execution_count": 555,
   "metadata": {},
   "outputs": [
    {
     "data": {
      "application/vnd.jupyter.widget-view+json": {
       "model_id": "7c02e7bf1a9a4ee5b0eb48b424e3ff59",
       "version_major": 2,
       "version_minor": 0
      },
      "text/plain": [
       "HBox(children=(IntProgress(value=1, bar_style='info', max=1), HTML(value='')))"
      ]
     },
     "metadata": {},
     "output_type": "display_data"
    },
    {
     "name": "stdout",
     "output_type": "stream",
     "text": [
      "\n"
     ]
    }
   ],
   "source": [
    "for row in tqdm_notebook(df.iterrows()):\n",
    "    try:\n",
    "        cur.execute(sql, row[1].tolist())\n",
    "    except Exception as e:\n",
    "        print(e)\n",
    "        break"
   ]
  },
  {
   "cell_type": "code",
   "execution_count": 556,
   "metadata": {},
   "outputs": [],
   "source": [
    "con.commit()"
   ]
  },
  {
   "cell_type": "code",
   "execution_count": 2,
   "metadata": {},
   "outputs": [],
   "source": []
  },
  {
   "cell_type": "markdown",
   "metadata": {},
   "source": [
    "# <S3에 이미지 업로드>"
   ]
  },
  {
   "cell_type": "markdown",
   "metadata": {},
   "source": [
    "### 버킷 정보"
   ]
  },
  {
   "cell_type": "code",
   "execution_count": 17,
   "metadata": {},
   "outputs": [
    {
     "name": "stdout",
     "output_type": "stream",
     "text": [
      "j-crawling-images-team\n",
      "smartstore-data\n"
     ]
    }
   ],
   "source": [
    "# 연결 확인\n",
    "\n",
    "s3_resource = boto3.resource('s3')\n",
    "for bucket in s3_resource.buckets.all():\n",
    "    print(bucket.name)"
   ]
  },
  {
   "cell_type": "code",
   "execution_count": 45,
   "metadata": {},
   "outputs": [],
   "source": [
    "def save_to_s3(p1_col, prd_id):\n",
    "    s3 = boto3.client('s3')\n",
    "    bucket_name = 'xx'\n",
    "    bucket_path = \"tent\"\n",
    "    aws_access_key_id = 'xx'\n",
    "    aws_secret_access_key= 'xx'\n",
    "    \n",
    "    total_img_num = 0\n",
    "    for idx in range(len(p1['image_url'])):\n",
    "        url = p1['image_url'][idx][0]\n",
    "        if len(url) > 1:\n",
    "            imageResponse = requests.get(url, stream=True).raw\n",
    "            file_name = \"{}/{}-{}.jpg\".format(bucket_path, prd_id, idx)\n",
    "            s3.upload_fileobj(imageResponse, bucket_name, file_name)\n",
    "            total_img_num += 1\n",
    "    print(total_img_num)"
   ]
  },
  {
   "cell_type": "markdown",
   "metadata": {},
   "source": [
    "## 버킷 저장"
   ]
  },
  {
   "cell_type": "code",
   "execution_count": 61,
   "metadata": {},
   "outputs": [],
   "source": [
    "p1 = get_reviews_by_page('24094588525', 1)"
   ]
  },
  {
   "cell_type": "code",
   "execution_count": 62,
   "metadata": {},
   "outputs": [
    {
     "name": "stdout",
     "output_type": "stream",
     "text": [
      "11\n"
     ]
    }
   ],
   "source": [
    "save_to_s3(p1['image_url'], '24094588525')"
   ]
  },
  {
   "cell_type": "code",
   "execution_count": null,
   "metadata": {},
   "outputs": [],
   "source": []
  },
  {
   "cell_type": "markdown",
   "metadata": {},
   "source": [
    "# 상품별로"
   ]
  },
  {
   "cell_type": "code",
   "execution_count": 721,
   "metadata": {},
   "outputs": [],
   "source": [
    "def get_reviews_by_prd(prd_id, page_num):\n",
    "    cookies = {\n",
    "    'NNB': 'IDMGADL3MHIWC',\n",
    "    '_ga_4BKHBFKFK0': 'GS1.1.1642402376.2.1.1642402379.0',\n",
    "    'ASID': 'dc763f370000017e66d652af00000061',\n",
    "    'MM_NEW': '1',\n",
    "    'NFS': '2',\n",
    "    '_ga': 'GA1.2.2106199447.1642400290',\n",
    "    '_ga_7VKFYR6RV1': 'GS1.1.1645429964.2.0.1645429964.60',\n",
    "    '_gcl_au': '1.1.914543992.1653449299',\n",
    "    '_fbp': 'fb.1.1653449299150.1579184898',\n",
    "    'nx_ssl': '2',\n",
    "    'nid_inf': '1769979884',\n",
    "    'NID_AUT': '8uGr2sf5lWmTGcYZE5y6WkKCrYk6a8aR/EjFHGWmfSKnsB56PbkDRc7SzqvMl9Yf',\n",
    "    'NID_JKL': '4e87ZCWcbP8Vh0J55HZLP4NK7qScYcuL//TPXne/xA4=',\n",
    "    'NID_SES': 'AAABebyPiAHj295pemW8645xRcq5nK05nIeh16AZmpFZsmEjVubVwVf9492m35MR7v18cIOjvXZEsJhvazK+dzQQakMu43FU2XFC8OKJcnJi/XjyOarGFvJ2R2sSSTxrZuBF/0o8yeahcm0mwB8dBvhkuRaNbpfQz8jDcAJwmt/080symgsXiRoKI6HkbgTZEaU4rbC/6OPpSYc60VwauQMGMRZ1nLXXQVAXRJ22HJtbY0/9dcXDRXOadyFPVGef3vT7X6fNB6EG2W0EfG6N1ZlUP9AfqEcZyXjOTgU2HZnuWN5pZbd3wz3+RjCVZbQKD2S+2kG6zEKTMr7Hu5EK1YPCctU2Fyo+xCHN2Vl/yrBF9MXgETzU3HADRn1h3u5vSCXdQs/XB5rgCWBNkZKAgzbugOQEqhwh/2QUh3RRboMr12ar4abnBzr7B8fmxK0j0fPsBBaBVKTJ6s4cLrhY+nhwLt/+J5JUgdYbbhNeQOpXlaOClvmx2oZh60OCjArs4zJlJQ==',\n",
    "    'page_uid': 'hqecRsprvxZssO2oXKwssssst/Z-417643',\n",
    "    }\n",
    "\n",
    "    headers = {\n",
    "        'authority': 'smartstore.naver.com',\n",
    "        'accept': 'application/json, text/plain, */*',\n",
    "        'accept-language': 'ko-KR,ko;q=0.9,en-US;q=0.8,en;q=0.7',\n",
    "        # Requests sorts cookies= alphabetically\n",
    "        # 'cookie': 'NNB=IDMGADL3MHIWC; _ga_4BKHBFKFK0=GS1.1.1642402376.2.1.1642402379.0; ASID=dc763f370000017e66d652af00000061; MM_NEW=1; NFS=2; _ga=GA1.2.2106199447.1642400290; _ga_7VKFYR6RV1=GS1.1.1645429964.2.0.1645429964.60; _gcl_au=1.1.914543992.1653449299; _fbp=fb.1.1653449299150.1579184898; nx_ssl=2; nid_inf=1769979884; NID_AUT=8uGr2sf5lWmTGcYZE5y6WkKCrYk6a8aR/EjFHGWmfSKnsB56PbkDRc7SzqvMl9Yf; NID_JKL=4e87ZCWcbP8Vh0J55HZLP4NK7qScYcuL//TPXne/xA4=; NID_SES=AAABebyPiAHj295pemW8645xRcq5nK05nIeh16AZmpFZsmEjVubVwVf9492m35MR7v18cIOjvXZEsJhvazK+dzQQakMu43FU2XFC8OKJcnJi/XjyOarGFvJ2R2sSSTxrZuBF/0o8yeahcm0mwB8dBvhkuRaNbpfQz8jDcAJwmt/080symgsXiRoKI6HkbgTZEaU4rbC/6OPpSYc60VwauQMGMRZ1nLXXQVAXRJ22HJtbY0/9dcXDRXOadyFPVGef3vT7X6fNB6EG2W0EfG6N1ZlUP9AfqEcZyXjOTgU2HZnuWN5pZbd3wz3+RjCVZbQKD2S+2kG6zEKTMr7Hu5EK1YPCctU2Fyo+xCHN2Vl/yrBF9MXgETzU3HADRn1h3u5vSCXdQs/XB5rgCWBNkZKAgzbugOQEqhwh/2QUh3RRboMr12ar4abnBzr7B8fmxK0j0fPsBBaBVKTJ6s4cLrhY+nhwLt/+J5JUgdYbbhNeQOpXlaOClvmx2oZh60OCjArs4zJlJQ==; page_uid=hqecRsprvxZssO2oXKwssssst/Z-417643',\n",
    "        'referer': 'https://smartstore.naver.com/blueoceankl/products/{}?NaPm=ct%3Dl49kr2c0%7Cci%3D5561ccf2664570e57c33072091c5f0ba53aa518d%7Ctr%3Dslsl%7Csn%3D697628%7Chk%3D17e46c4e38832e3acbb51112f4857f900ca925cc'.format(prd_id),\n",
    "        'sec-ch-ua': '\" Not A;Brand\";v=\"99\", \"Chromium\";v=\"102\", \"Google Chrome\";v=\"102\"',\n",
    "        'sec-ch-ua-mobile': '?0',\n",
    "        'sec-ch-ua-platform': '\"Windows\"',\n",
    "        'sec-fetch-dest': 'empty',\n",
    "        'sec-fetch-mode': 'cors',\n",
    "        'sec-fetch-site': 'same-origin',\n",
    "        'user-agent': 'Mozilla/5.0 (Windows NT 10.0; Win64; x64) AppleWebKit/537.36 (KHTML, like Gecko) Chrome/102.0.0.0 Safari/537.36',\n",
    "    }\n",
    "\n",
    "    params = {\n",
    "        'page': page_num,\n",
    "        'pageSize': '20',\n",
    "        'merchantNo': '510168447',\n",
    "        'originProductNo': '4547615294',\n",
    "        'sortType': 'REVIEW_RANKING',\n",
    "    }\n",
    "\n",
    "    response = requests.get('https://smartstore.naver.com/i/v1/reviews/paged-reviews', params=params, cookies=cookies, headers=headers)\n",
    "    reviewlist = json.loads(response.text)\n",
    "    \n",
    "    \n",
    "    list_reviews = []\n",
    "    \n",
    "    for i in range(0, 20):\n",
    "        \n",
    "        list_review = []\n",
    "        \n",
    "        # prd_id\n",
    "        if 'productNo' in reviewlist['contents'][i]:\n",
    "            list_review.append(reviewlist['contents'][i]['productNo'])\n",
    "        else:\n",
    "            list_review.append(\"NaN\")\n",
    "        \n",
    "        # prd_url\n",
    "        if 'productUrl' in reviewlist['contents'][i]:\n",
    "            list_review.append(reviewlist['contents'][i]['productUrl'])\n",
    "        else:\n",
    "            list_review.append(\"NaN\")\n",
    "            \n",
    "        # user_id\n",
    "        if 'writerMemberId' in reviewlist['contents'][i]:\n",
    "            list_review.append(reviewlist['contents'][i]['writerMemberId'])\n",
    "        else:\n",
    "            list_review.append(\"NaN\")\n",
    "        \n",
    "        # content\n",
    "        if 'reviewContent' in reviewlist['contents'][i]:\n",
    "            list_review.append(reviewlist['contents'][i]['reviewContent'])\n",
    "        else:\n",
    "            list_review.append(\"NaN\")\n",
    "        \n",
    "        # register_date\n",
    "        if 'createDate' in reviewlist['contents'][i]:\n",
    "            list_review.append(reviewlist['contents'][i]['createDate'])\n",
    "        else:\n",
    "            list_review.append(\"NaN\")\n",
    "        \n",
    "        # quality_score\n",
    "        list_review.append('NaN')\n",
    "            \n",
    "        # star_score\n",
    "        if 'reviewScore' in reviewlist['contents'][i]:\n",
    "            list_review.append(reviewlist['contents'][i]['reviewScore'])\n",
    "        else:\n",
    "            list_review.append(\"NaN\")\n",
    "        \n",
    "        # image_url\n",
    "        list_review.append(\"NaN\")\n",
    "        \n",
    "        list_reviews.append(list_review)\n",
    "    \n",
    "    cols = ['prd_id', 'prd_url', 'user_id', 'review', 'uploaded_date', 'quality_score', 'star_score', 'image_url']   \n",
    "    return pd.DataFrame(list_reviews, columns = cols)"
   ]
  },
  {
   "cell_type": "code",
   "execution_count": 51,
   "metadata": {},
   "outputs": [],
   "source": [
    "def review_save_by_prd(prd_id, page_end_num):\n",
    "    list_df = []\n",
    "    for i in range(1, page_end_num+1):\n",
    "        list_df.append(get_reviews_by_prd(prd_id, i))\n",
    "    df = pd.concat(list_df)\n",
    "    return df"
   ]
  },
  {
   "cell_type": "code",
   "execution_count": 738,
   "metadata": {},
   "outputs": [
    {
     "name": "stdout",
     "output_type": "stream",
     "text": [
      "2020\n"
     ]
    }
   ],
   "source": [
    "df = review_save_by_prd('100408682', 101)\n",
    "print(len(df))"
   ]
  },
  {
   "cell_type": "code",
   "execution_count": 739,
   "metadata": {},
   "outputs": [
    {
     "data": {
      "application/vnd.jupyter.widget-view+json": {
       "model_id": "8086cbbfc46e4853be29e24a887127be",
       "version_major": 2,
       "version_minor": 0
      },
      "text/plain": [
       "HBox(children=(IntProgress(value=1, bar_style='info', max=1), HTML(value='')))"
      ]
     },
     "metadata": {},
     "output_type": "display_data"
    },
    {
     "name": "stdout",
     "output_type": "stream",
     "text": [
      "\n"
     ]
    }
   ],
   "source": [
    "for row in tqdm_notebook(df.iterrows()):\n",
    "    try:\n",
    "        cur.execute(sql, row[1].tolist())\n",
    "    except Exception as e:\n",
    "        print(e)\n",
    "        break"
   ]
  },
  {
   "cell_type": "code",
   "execution_count": 740,
   "metadata": {},
   "outputs": [],
   "source": [
    "con.commit()"
   ]
  },
  {
   "cell_type": "code",
   "execution_count": null,
   "metadata": {},
   "outputs": [],
   "source": []
  },
  {
   "cell_type": "markdown",
   "metadata": {},
   "source": [
    "# prd_id없이 각 상품별로 저장"
   ]
  },
  {
   "cell_type": "code",
   "execution_count": 120,
   "metadata": {},
   "outputs": [],
   "source": [
    "def get_reviews_by_prd(page_num):\n",
    "    cookies = {\n",
    "    'NNB': 'IDMGADL3MHIWC',\n",
    "    '_ga_4BKHBFKFK0': 'GS1.1.1642402376.2.1.1642402379.0',\n",
    "    'ASID': 'dc763f370000017e66d652af00000061',\n",
    "    'MM_NEW': '1',\n",
    "    'NFS': '2',\n",
    "    '_ga': 'GA1.2.2106199447.1642400290',\n",
    "    '_ga_7VKFYR6RV1': 'GS1.1.1645429964.2.0.1645429964.60',\n",
    "    '_gcl_au': '1.1.914543992.1653449299',\n",
    "    '_fbp': 'fb.1.1653449299150.1579184898',\n",
    "    'nx_ssl': '2',\n",
    "    'nid_inf': '1769979884',\n",
    "    'NID_AUT': '8uGr2sf5lWmTGcYZE5y6WkKCrYk6a8aR/EjFHGWmfSKnsB56PbkDRc7SzqvMl9Yf',\n",
    "    'NID_JKL': '4e87ZCWcbP8Vh0J55HZLP4NK7qScYcuL//TPXne/xA4=',\n",
    "    'NID_SES': 'AAABelVhj3YjlOLnqiY9BMFo0J5kvSIo4/SFZ2J6+f/BLOy22UlURxs/m8pWz75vToPNEZ9vLtisB4svHyIO7N+vBvjTvneycRgMqb9GRmAjUtksRkJDP1JW8CqHI9yt5XBgeSX99CttAX11Geqy2pq+3S0ZeGc0XPwqwPpBrnu38l7h1nG+vePl++ZxZyaNQcstlAdHz0TAlpdNVK+4jHuuWypg4C5/1112w6XXDmNGJmK0gsEceQUc4NIjR5C+Tze1KwC3cset+lJ3kucRltdDlISmQ14OMyf2j48stQCI+8uQYMY/1qqlQcQzrCzn4bvxzQrUKYZDgcwmoSKfD1EA73Ww0GSiV9V/c1kgbuHNfXTN9g2rukd72unUpPzhRjqtfOEaVtJCJ7Jj0cXgg9iyIQCGM3kgVoCyZ8kDd/St6l0/8BUJQ935ussCgp1Y1arLxyxcg08H6JDGvXipZZUgKOMQlyW6CXa/+pi6RqaaoCreTUnfTC/19SFY5pNaxS+JJA==',\n",
    "    'page_uid': 'hqSl8wprvmssst1cuoZssssss4R-066107',\n",
    "    }\n",
    "\n",
    "    headers = {\n",
    "        'authority': 'smartstore.naver.com',\n",
    "        'accept': 'application/json, text/plain, */*',\n",
    "        'accept-language': 'ko-KR,ko;q=0.9,en-US;q=0.8,en;q=0.7',\n",
    "        # Requests sorts cookies= alphabetically\n",
    "        # 'cookie': 'NNB=IDMGADL3MHIWC; _ga_4BKHBFKFK0=GS1.1.1642402376.2.1.1642402379.0; ASID=dc763f370000017e66d652af00000061; MM_NEW=1; NFS=2; _ga=GA1.2.2106199447.1642400290; _ga_7VKFYR6RV1=GS1.1.1645429964.2.0.1645429964.60; _gcl_au=1.1.914543992.1653449299; _fbp=fb.1.1653449299150.1579184898; nx_ssl=2; nid_inf=1769979884; NID_AUT=8uGr2sf5lWmTGcYZE5y6WkKCrYk6a8aR/EjFHGWmfSKnsB56PbkDRc7SzqvMl9Yf; NID_JKL=4e87ZCWcbP8Vh0J55HZLP4NK7qScYcuL//TPXne/xA4=; NID_SES=AAABelVhj3YjlOLnqiY9BMFo0J5kvSIo4/SFZ2J6+f/BLOy22UlURxs/m8pWz75vToPNEZ9vLtisB4svHyIO7N+vBvjTvneycRgMqb9GRmAjUtksRkJDP1JW8CqHI9yt5XBgeSX99CttAX11Geqy2pq+3S0ZeGc0XPwqwPpBrnu38l7h1nG+vePl++ZxZyaNQcstlAdHz0TAlpdNVK+4jHuuWypg4C5/1112w6XXDmNGJmK0gsEceQUc4NIjR5C+Tze1KwC3cset+lJ3kucRltdDlISmQ14OMyf2j48stQCI+8uQYMY/1qqlQcQzrCzn4bvxzQrUKYZDgcwmoSKfD1EA73Ww0GSiV9V/c1kgbuHNfXTN9g2rukd72unUpPzhRjqtfOEaVtJCJ7Jj0cXgg9iyIQCGM3kgVoCyZ8kDd/St6l0/8BUJQ935ussCgp1Y1arLxyxcg08H6JDGvXipZZUgKOMQlyW6CXa/+pi6RqaaoCreTUnfTC/19SFY5pNaxS+JJA==; page_uid=hqSl8wprvmssst1cuoZssssss4R-066107',\n",
    "        'referer': 'https://smartstore.naver.com/seland/products/2471807188?NaPm=ct%3Dl4asulkg%7Cci%3Dd2dda3b0d841e0c465eaabe2382786b1c697a6f6%7Ctr%3Dslsl%7Csn%3D205012%7Chk%3D17761402e36205bf00e83ba95101e6cdb09f577b',\n",
    "        'sec-ch-ua': '\" Not A;Brand\";v=\"99\", \"Chromium\";v=\"102\", \"Google Chrome\";v=\"102\"',\n",
    "        'sec-ch-ua-mobile': '?0',\n",
    "        'sec-ch-ua-platform': '\"Windows\"',\n",
    "        'sec-fetch-dest': 'empty',\n",
    "        'sec-fetch-mode': 'cors',\n",
    "        'sec-fetch-site': 'same-origin',\n",
    "        'user-agent': 'Mozilla/5.0 (Windows NT 10.0; Win64; x64) AppleWebKit/537.36 (KHTML, like Gecko) Chrome/102.0.0.0 Safari/537.36',\n",
    "    }\n",
    "\n",
    "    params = {\n",
    "        'page': page_num,\n",
    "        'pageSize': '20',\n",
    "        'merchantNo': '500032759',\n",
    "        'originProductNo': '2469219281',\n",
    "        'sortType': 'REVIEW_RANKING',\n",
    "    }\n",
    "\n",
    "    response = requests.get('https://smartstore.naver.com/i/v1/reviews/paged-reviews', params=params, cookies=cookies, headers=headers)\n",
    "    reviewlist = json.loads(response.text)\n",
    "    \n",
    "    \n",
    "    list_reviews = []\n",
    "    \n",
    "    for i in range(0, 20):\n",
    "        \n",
    "        list_review = []\n",
    "        \n",
    "        # prd_id\n",
    "        if 'productNo' in reviewlist['contents'][i]:\n",
    "            list_review.append(reviewlist['contents'][i]['productNo'])\n",
    "        else:\n",
    "            list_review.append(\"NaN\")\n",
    "        \n",
    "        # prd_url\n",
    "        if 'productUrl' in reviewlist['contents'][i]:\n",
    "            list_review.append(reviewlist['contents'][i]['productUrl'])\n",
    "        else:\n",
    "            list_review.append(\"NaN\")\n",
    "            \n",
    "        # user_id\n",
    "        if 'writerMemberId' in reviewlist['contents'][i]:\n",
    "            list_review.append(reviewlist['contents'][i]['writerMemberId'])\n",
    "        else:\n",
    "            list_review.append(\"NaN\")\n",
    "        \n",
    "        # content\n",
    "        if 'reviewContent' in reviewlist['contents'][i]:\n",
    "            list_review.append(reviewlist['contents'][i]['reviewContent'])\n",
    "        else:\n",
    "            list_review.append(\"NaN\")\n",
    "        \n",
    "        # register_date\n",
    "        if 'createDate' in reviewlist['contents'][i]:\n",
    "            list_review.append(reviewlist['contents'][i]['createDate'])\n",
    "        else:\n",
    "            list_review.append(\"NaN\")\n",
    "        \n",
    "        # quality_score\n",
    "        list_review.append('NaN')\n",
    "            \n",
    "        # star_score\n",
    "        if 'reviewScore' in reviewlist['contents'][i]:\n",
    "            list_review.append(reviewlist['contents'][i]['reviewScore'])\n",
    "        else:\n",
    "            list_review.append(\"NaN\")\n",
    "        \n",
    "        # image_url\n",
    "        list_review.append(\"NaN\")\n",
    "        \n",
    "        list_reviews.append(list_review)\n",
    "    \n",
    "    cols = ['prd_id', 'prd_url', 'user_id', 'review', 'uploaded_date', 'quality_score', 'star_score', 'image_url']   \n",
    "    return pd.DataFrame(list_reviews, columns = cols)"
   ]
  },
  {
   "cell_type": "code",
   "execution_count": 65,
   "metadata": {},
   "outputs": [],
   "source": [
    "def review_save_by_prd(page_end_num):\n",
    "    list_df = []\n",
    "    for i in range(1, page_end_num+1):\n",
    "        list_df.append(get_reviews_by_prd(i))\n",
    "    df = pd.concat(list_df)\n",
    "    return df"
   ]
  },
  {
   "cell_type": "code",
   "execution_count": 121,
   "metadata": {},
   "outputs": [
    {
     "name": "stdout",
     "output_type": "stream",
     "text": [
      "380\n"
     ]
    }
   ],
   "source": [
    "df = review_save_by_prd(19)\n",
    "print(len(df))"
   ]
  },
  {
   "cell_type": "code",
   "execution_count": 122,
   "metadata": {},
   "outputs": [
    {
     "data": {
      "text/html": [
       "<div>\n",
       "<style scoped>\n",
       "    .dataframe tbody tr th:only-of-type {\n",
       "        vertical-align: middle;\n",
       "    }\n",
       "\n",
       "    .dataframe tbody tr th {\n",
       "        vertical-align: top;\n",
       "    }\n",
       "\n",
       "    .dataframe thead th {\n",
       "        text-align: right;\n",
       "    }\n",
       "</style>\n",
       "<table border=\"1\" class=\"dataframe\">\n",
       "  <thead>\n",
       "    <tr style=\"text-align: right;\">\n",
       "      <th></th>\n",
       "      <th>prd_id</th>\n",
       "      <th>prd_url</th>\n",
       "      <th>user_id</th>\n",
       "      <th>review</th>\n",
       "      <th>uploaded_date</th>\n",
       "      <th>quality_score</th>\n",
       "      <th>star_score</th>\n",
       "      <th>image_url</th>\n",
       "    </tr>\n",
       "  </thead>\n",
       "  <tbody>\n",
       "    <tr>\n",
       "      <th>0</th>\n",
       "      <td>2471807188</td>\n",
       "      <td>https://smartstore.naver.com/main/products/247...</td>\n",
       "      <td>micr****</td>\n",
       "      <td>부모님 캠핑하시는데 넘  만족하시네요</td>\n",
       "      <td>2021-05-06T08:12:25.900+00:00</td>\n",
       "      <td>NaN</td>\n",
       "      <td>5</td>\n",
       "      <td>NaN</td>\n",
       "    </tr>\n",
       "    <tr>\n",
       "      <th>1</th>\n",
       "      <td>2471807188</td>\n",
       "      <td>https://smartstore.naver.com/main/products/247...</td>\n",
       "      <td>va****</td>\n",
       "      <td>아이들이 좋다고 하네요</td>\n",
       "      <td>2021-04-09T09:01:40.026+00:00</td>\n",
       "      <td>NaN</td>\n",
       "      <td>5</td>\n",
       "      <td>NaN</td>\n",
       "    </tr>\n",
       "    <tr>\n",
       "      <th>2</th>\n",
       "      <td>2471807188</td>\n",
       "      <td>https://smartstore.naver.com/main/products/247...</td>\n",
       "      <td>bhje*****</td>\n",
       "      <td>벙커돔 두번째구매입니다. 역시나 설치중에 루프플라이 고리가 하나 끊어졌네요ㅜㅜ예전에...</td>\n",
       "      <td>2021-03-13T06:06:26.797+00:00</td>\n",
       "      <td>NaN</td>\n",
       "      <td>4</td>\n",
       "      <td>NaN</td>\n",
       "    </tr>\n",
       "    <tr>\n",
       "      <th>3</th>\n",
       "      <td>2471807188</td>\n",
       "      <td>https://smartstore.naver.com/main/products/247...</td>\n",
       "      <td>pree***</td>\n",
       "      <td>벙커돔치곤 가볍게 사용하기 좋습니다~! 백패킹용으로 들고다니기엔 무게가 좀 있긴 하...</td>\n",
       "      <td>2021-03-02T04:53:39.500+00:00</td>\n",
       "      <td>NaN</td>\n",
       "      <td>4</td>\n",
       "      <td>NaN</td>\n",
       "    </tr>\n",
       "    <tr>\n",
       "      <th>4</th>\n",
       "      <td>2471807188</td>\n",
       "      <td>https://smartstore.naver.com/main/products/247...</td>\n",
       "      <td>ksho******</td>\n",
       "      <td>설치도 쉽고 만족합니다</td>\n",
       "      <td>2021-03-29T06:21:12.387+00:00</td>\n",
       "      <td>NaN</td>\n",
       "      <td>5</td>\n",
       "      <td>NaN</td>\n",
       "    </tr>\n",
       "  </tbody>\n",
       "</table>\n",
       "</div>"
      ],
      "text/plain": [
       "       prd_id                                            prd_url     user_id  \\\n",
       "0  2471807188  https://smartstore.naver.com/main/products/247...    micr****   \n",
       "1  2471807188  https://smartstore.naver.com/main/products/247...      va****   \n",
       "2  2471807188  https://smartstore.naver.com/main/products/247...   bhje*****   \n",
       "3  2471807188  https://smartstore.naver.com/main/products/247...     pree***   \n",
       "4  2471807188  https://smartstore.naver.com/main/products/247...  ksho******   \n",
       "\n",
       "                                              review  \\\n",
       "0                               부모님 캠핑하시는데 넘  만족하시네요   \n",
       "1                                       아이들이 좋다고 하네요   \n",
       "2  벙커돔 두번째구매입니다. 역시나 설치중에 루프플라이 고리가 하나 끊어졌네요ㅜㅜ예전에...   \n",
       "3  벙커돔치곤 가볍게 사용하기 좋습니다~! 백패킹용으로 들고다니기엔 무게가 좀 있긴 하...   \n",
       "4                                       설치도 쉽고 만족합니다   \n",
       "\n",
       "                   uploaded_date quality_score  star_score image_url  \n",
       "0  2021-05-06T08:12:25.900+00:00           NaN           5       NaN  \n",
       "1  2021-04-09T09:01:40.026+00:00           NaN           5       NaN  \n",
       "2  2021-03-13T06:06:26.797+00:00           NaN           4       NaN  \n",
       "3  2021-03-02T04:53:39.500+00:00           NaN           4       NaN  \n",
       "4  2021-03-29T06:21:12.387+00:00           NaN           5       NaN  "
      ]
     },
     "execution_count": 122,
     "metadata": {},
     "output_type": "execute_result"
    }
   ],
   "source": [
    "df.head()"
   ]
  },
  {
   "cell_type": "code",
   "execution_count": 123,
   "metadata": {},
   "outputs": [
    {
     "data": {
      "application/vnd.jupyter.widget-view+json": {
       "model_id": "c8dd58f88663408fbb89a1b3905a516a",
       "version_major": 2,
       "version_minor": 0
      },
      "text/plain": [
       "HBox(children=(IntProgress(value=1, bar_style='info', max=1), HTML(value='')))"
      ]
     },
     "metadata": {},
     "output_type": "display_data"
    },
    {
     "name": "stdout",
     "output_type": "stream",
     "text": [
      "\n"
     ]
    }
   ],
   "source": [
    "for row in tqdm_notebook(df.iterrows()):\n",
    "    try:\n",
    "        cur.execute(sql, row[1].tolist())\n",
    "    except Exception as e:\n",
    "        print(e)\n",
    "        break"
   ]
  },
  {
   "cell_type": "code",
   "execution_count": 124,
   "metadata": {},
   "outputs": [],
   "source": [
    "con.commit()"
   ]
  },
  {
   "cell_type": "code",
   "execution_count": null,
   "metadata": {},
   "outputs": [],
   "source": []
  }
 ],
 "metadata": {
  "kernelspec": {
   "display_name": "Python 3",
   "language": "python",
   "name": "python3"
  },
  "language_info": {
   "codemirror_mode": {
    "name": "ipython",
    "version": 3
   },
   "file_extension": ".py",
   "mimetype": "text/x-python",
   "name": "python",
   "nbconvert_exporter": "python",
   "pygments_lexer": "ipython3",
   "version": "3.7.0"
  }
 },
 "nbformat": 4,
 "nbformat_minor": 2
}
