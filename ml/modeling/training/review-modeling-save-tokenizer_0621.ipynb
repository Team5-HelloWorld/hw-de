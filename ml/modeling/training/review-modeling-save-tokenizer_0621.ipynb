{
 "cells": [
  {
   "cell_type": "markdown",
   "id": "37d88392-58a5-4088-afd8-f79e51056a5e",
   "metadata": {},
   "source": [
    "# Tent product review data¶"
   ]
  },
  {
   "cell_type": "markdown",
   "id": "da28a3d8-eb35-450a-9f8b-25bb6e1eb7e6",
   "metadata": {},
   "source": [
    "#### In this time, \n",
    "#### 1. eleminate the rating values of 3, which are meant to be neutral, to make a more sensitive model.\n",
    "#### 2. save tokenizer object"
   ]
  },
  {
   "cell_type": "code",
   "execution_count": null,
   "id": "8c420cda-8646-4e26-804c-e1b306e79fd3",
   "metadata": {
    "tags": []
   },
   "outputs": [],
   "source": [
    "# ! pip install konlpy"
   ]
  },
  {
   "cell_type": "code",
   "execution_count": 2,
   "id": "932f29ca-0779-4d01-adf0-c453cccfd542",
   "metadata": {
    "tags": []
   },
   "outputs": [],
   "source": [
    "import pandas as pd\n",
    "import numpy as np\n",
    "import pickle\n",
    "import json\n",
    "import matplotlib.pyplot as plt\n",
    "import re\n",
    "import io\n",
    "import urllib.request\n",
    "from konlpy.tag import Okt\n",
    "from konlpy.tag import Mecab\n",
    "from tqdm import tqdm\n",
    "from sklearn.model_selection import train_test_split\n",
    "from tensorflow.keras.preprocessing.text import Tokenizer\n",
    "from tensorflow.keras.preprocessing.sequence import pad_sequences"
   ]
  },
  {
   "cell_type": "markdown",
   "id": "afd25caa-a85e-4794-a101-7ab19c8d28b7",
   "metadata": {},
   "source": [
    "# 0. Load data"
   ]
  },
  {
   "cell_type": "code",
   "execution_count": 6,
   "id": "34daebbc-fbda-4e2a-8714-54077795e22b",
   "metadata": {},
   "outputs": [],
   "source": [
    "total_data = pd.read_csv('./total_data_without_val_3.csv')"
   ]
  },
  {
   "cell_type": "code",
   "execution_count": 4,
   "id": "90bc7543-43c0-4729-9410-d7563f6123a5",
   "metadata": {},
   "outputs": [
    {
     "name": "stdout",
     "output_type": "stream",
     "text": [
      "<class 'pandas.core.frame.DataFrame'>\n",
      "RangeIndex: 264025 entries, 0 to 264024\n",
      "Data columns (total 2 columns):\n",
      " #   Column   Non-Null Count   Dtype \n",
      "---  ------   --------------   ----- \n",
      " 0   ratings  264025 non-null  int64 \n",
      " 1   reviews  264022 non-null  object\n",
      "dtypes: int64(1), object(1)\n",
      "memory usage: 4.0+ MB\n"
     ]
    }
   ],
   "source": [
    "total_data.info()"
   ]
  },
  {
   "cell_type": "markdown",
   "id": "0175445a-c60f-4b71-a5f0-837b70fc611e",
   "metadata": {},
   "source": [
    "# 0. Preprocessing"
   ]
  },
  {
   "cell_type": "markdown",
   "id": "b980ee27-576f-4e50-8375-9ad7a0b9ca61",
   "metadata": {},
   "source": [
    "## clean duplicated values"
   ]
  },
  {
   "cell_type": "code",
   "execution_count": 7,
   "id": "b5e8fe60-c448-42fb-a3c0-33d9c2be89e3",
   "metadata": {},
   "outputs": [
    {
     "data": {
      "text/plain": [
       "263576"
      ]
     },
     "execution_count": 7,
     "metadata": {},
     "output_type": "execute_result"
    }
   ],
   "source": [
    "total_data['reviews'].nunique()"
   ]
  },
  {
   "cell_type": "code",
   "execution_count": 8,
   "id": "3f50d596-3127-4b97-bed3-744629b4e282",
   "metadata": {},
   "outputs": [],
   "source": [
    "total_data.drop_duplicates(subset=['reviews'], inplace=True)"
   ]
  },
  {
   "cell_type": "markdown",
   "id": "7eb65678-3352-44a9-8f75-92106336aee4",
   "metadata": {},
   "source": [
    "## Clean null values"
   ]
  },
  {
   "cell_type": "code",
   "execution_count": 9,
   "id": "cb163088-5d05-498a-9d2d-06b0a13bf52c",
   "metadata": {},
   "outputs": [
    {
     "name": "stdout",
     "output_type": "stream",
     "text": [
      "True\n"
     ]
    }
   ],
   "source": [
    "print(total_data.isnull().values.any())"
   ]
  },
  {
   "cell_type": "code",
   "execution_count": 10,
   "id": "271c6575-d35b-436f-a3fd-07dc1a0dd8ee",
   "metadata": {},
   "outputs": [],
   "source": [
    "total_data = total_data.dropna(how = 'any')"
   ]
  },
  {
   "cell_type": "code",
   "execution_count": 11,
   "id": "d896029b-f5b0-4842-9f92-aeaa6202a721",
   "metadata": {},
   "outputs": [
    {
     "name": "stdout",
     "output_type": "stream",
     "text": [
      "False\n"
     ]
    }
   ],
   "source": [
    "print(total_data.isnull().values.any())"
   ]
  },
  {
   "cell_type": "code",
   "execution_count": 12,
   "id": "7c4aa579-7401-4254-b2be-28dc44283fa1",
   "metadata": {},
   "outputs": [],
   "source": [
    "total_data.reset_index(drop=True, inplace=True)"
   ]
  },
  {
   "cell_type": "code",
   "execution_count": 13,
   "id": "fb35efa3-778d-46da-a3d3-209bbae13458",
   "metadata": {},
   "outputs": [
    {
     "name": "stdout",
     "output_type": "stream",
     "text": [
      "<class 'pandas.core.frame.DataFrame'>\n",
      "RangeIndex: 263576 entries, 0 to 263575\n",
      "Data columns (total 2 columns):\n",
      " #   Column   Non-Null Count   Dtype \n",
      "---  ------   --------------   ----- \n",
      " 0   ratings  263576 non-null  int64 \n",
      " 1   reviews  263576 non-null  object\n",
      "dtypes: int64(1), object(1)\n",
      "memory usage: 4.0+ MB\n"
     ]
    }
   ],
   "source": [
    "total_data.info()"
   ]
  },
  {
   "cell_type": "markdown",
   "id": "d291a545-2d4e-46af-b494-37eb67c2b784",
   "metadata": {},
   "source": [
    "## Clean unnecessary values"
   ]
  },
  {
   "cell_type": "code",
   "execution_count": 14,
   "id": "cfbaed5b-eb29-4d67-abe0-50f826574424",
   "metadata": {},
   "outputs": [
    {
     "name": "stderr",
     "output_type": "stream",
     "text": [
      "/opt/conda/lib/python3.7/site-packages/ipykernel_launcher.py:1: FutureWarning: The default value of regex will change from True to False in a future version.\n",
      "  \"\"\"Entry point for launching an IPython kernel.\n",
      "/opt/conda/lib/python3.7/site-packages/ipykernel_launcher.py:2: FutureWarning: The default value of regex will change from True to False in a future version.\n",
      "  \n"
     ]
    }
   ],
   "source": [
    "total_data['reviews'] = total_data['reviews'].str.replace(\"[^ㄱ-ㅎㅏ-ㅣ가-힣 ]\",\"\")\n",
    "total_data['reviews'] = total_data['reviews'].str.replace('^ +', \"\")\n",
    "total_data['reviews'].replace('', np.nan, inplace=True)\n",
    "total_data = total_data.dropna(how='any')"
   ]
  },
  {
   "cell_type": "code",
   "execution_count": 15,
   "id": "5e5d6160-f4e6-4169-99e8-8ad9e4f405dc",
   "metadata": {},
   "outputs": [
    {
     "data": {
      "text/html": [
       "<div>\n",
       "<style scoped>\n",
       "    .dataframe tbody tr th:only-of-type {\n",
       "        vertical-align: middle;\n",
       "    }\n",
       "\n",
       "    .dataframe tbody tr th {\n",
       "        vertical-align: top;\n",
       "    }\n",
       "\n",
       "    .dataframe thead th {\n",
       "        text-align: right;\n",
       "    }\n",
       "</style>\n",
       "<table border=\"1\" class=\"dataframe\">\n",
       "  <thead>\n",
       "    <tr style=\"text-align: right;\">\n",
       "      <th></th>\n",
       "      <th>ratings</th>\n",
       "      <th>reviews</th>\n",
       "    </tr>\n",
       "  </thead>\n",
       "  <tbody>\n",
       "    <tr>\n",
       "      <th>0</th>\n",
       "      <td>5</td>\n",
       "      <td>배공빠르고 굿</td>\n",
       "    </tr>\n",
       "    <tr>\n",
       "      <th>1</th>\n",
       "      <td>2</td>\n",
       "      <td>택배가 엉망이네용 저희집 밑에층에 말도없이 놔두고가고</td>\n",
       "    </tr>\n",
       "    <tr>\n",
       "      <th>2</th>\n",
       "      <td>5</td>\n",
       "      <td>아주좋아요 바지 정말 좋아서개 더 구매했어요 이가격에 대박입니다 바느질이 조금 엉성...</td>\n",
       "    </tr>\n",
       "    <tr>\n",
       "      <th>3</th>\n",
       "      <td>2</td>\n",
       "      <td>선물용으로 빨리 받아서 전달했어야 하는 상품이었는데 머그컵만 와서 당황했습니다 전화...</td>\n",
       "    </tr>\n",
       "    <tr>\n",
       "      <th>4</th>\n",
       "      <td>5</td>\n",
       "      <td>민트색상 예뻐요 옆 손잡이는 거는 용도로도 사용되네요 ㅎㅎ</td>\n",
       "    </tr>\n",
       "    <tr>\n",
       "      <th>...</th>\n",
       "      <td>...</td>\n",
       "      <td>...</td>\n",
       "    </tr>\n",
       "    <tr>\n",
       "      <th>263571</th>\n",
       "      <td>4</td>\n",
       "      <td>생각한것 보다 쫌 좁은느낌 그래도 렌턴걸이도 있고 다용도로 잘 쓸거 같아요 마니 파세용</td>\n",
       "    </tr>\n",
       "    <tr>\n",
       "      <th>263572</th>\n",
       "      <td>5</td>\n",
       "      <td>오랜 고심끝에 가성비 좋고 여러모로 장점이 많은듯 하여 솔캠 쉘터용으로 구매합니다 ...</td>\n",
       "    </tr>\n",
       "    <tr>\n",
       "      <th>263573</th>\n",
       "      <td>1</td>\n",
       "      <td>배송 겁나 느림 추석 전 주에 주문했는데 추석 끝나고 옴 메쉬 상태 찌그러진 곳 많...</td>\n",
       "    </tr>\n",
       "    <tr>\n",
       "      <th>263574</th>\n",
       "      <td>4</td>\n",
       "      <td>잘받았습니다 아직 사용전이지만 조만간 주말에 캠핑가려고 구매했너요</td>\n",
       "    </tr>\n",
       "    <tr>\n",
       "      <th>263575</th>\n",
       "      <td>4</td>\n",
       "      <td>색깔이 흰색인줄 알았는데 회색이더군요 아직 펴보진 않았는데 일단 가볍긴하네요</td>\n",
       "    </tr>\n",
       "  </tbody>\n",
       "</table>\n",
       "<p>263518 rows × 2 columns</p>\n",
       "</div>"
      ],
      "text/plain": [
       "        ratings                                            reviews\n",
       "0             5                                            배공빠르고 굿\n",
       "1             2                      택배가 엉망이네용 저희집 밑에층에 말도없이 놔두고가고\n",
       "2             5  아주좋아요 바지 정말 좋아서개 더 구매했어요 이가격에 대박입니다 바느질이 조금 엉성...\n",
       "3             2  선물용으로 빨리 받아서 전달했어야 하는 상품이었는데 머그컵만 와서 당황했습니다 전화...\n",
       "4             5                   민트색상 예뻐요 옆 손잡이는 거는 용도로도 사용되네요 ㅎㅎ\n",
       "...         ...                                                ...\n",
       "263571        4  생각한것 보다 쫌 좁은느낌 그래도 렌턴걸이도 있고 다용도로 잘 쓸거 같아요 마니 파세용 \n",
       "263572        5  오랜 고심끝에 가성비 좋고 여러모로 장점이 많은듯 하여 솔캠 쉘터용으로 구매합니다 ...\n",
       "263573        1  배송 겁나 느림 추석 전 주에 주문했는데 추석 끝나고 옴 메쉬 상태 찌그러진 곳 많...\n",
       "263574        4              잘받았습니다 아직 사용전이지만 조만간 주말에 캠핑가려고 구매했너요 \n",
       "263575        4         색깔이 흰색인줄 알았는데 회색이더군요 아직 펴보진 않았는데 일단 가볍긴하네요\n",
       "\n",
       "[263518 rows x 2 columns]"
      ]
     },
     "execution_count": 15,
     "metadata": {},
     "output_type": "execute_result"
    }
   ],
   "source": [
    "total_data"
   ]
  },
  {
   "cell_type": "markdown",
   "id": "34e35467-3618-4bc0-aeee-496ef4d5d1e5",
   "metadata": {},
   "source": [
    "# 0. Split Train/Test data set"
   ]
  },
  {
   "cell_type": "code",
   "execution_count": 16,
   "id": "e767dbde-e26f-475b-8fce-1c30cc6d0a8d",
   "metadata": {},
   "outputs": [
    {
     "name": "stdout",
     "output_type": "stream",
     "text": [
      "36466\n",
      "64312\n",
      "29562\n",
      "133178\n"
     ]
    },
    {
     "data": {
      "text/plain": [
       "'\\n36466\\n64312\\n29562\\n133178\\n'"
      ]
     },
     "execution_count": 16,
     "metadata": {},
     "output_type": "execute_result"
    }
   ],
   "source": [
    "print(len(total_data[total_data['ratings'] == 1]))\n",
    "print(len(total_data[total_data['ratings'] == 2]))\n",
    "print(len(total_data[total_data['ratings'] == 4]))\n",
    "print(len(total_data[total_data['ratings'] == 5]))\n",
    "\n",
    "\"\"\"\n",
    "36466\n",
    "64312\n",
    "29562\n",
    "133178\n",
    "\"\"\""
   ]
  },
  {
   "cell_type": "markdown",
   "id": "39db2765-042a-4a68-bb63-8e7a541439fe",
   "metadata": {},
   "source": [
    "## Labeling rating values (4 and 5 -> 1 / 1 and 2 -> 0)"
   ]
  },
  {
   "cell_type": "code",
   "execution_count": 17,
   "id": "d2fdf6cf-c1dc-4332-8e2d-194b9f6d4859",
   "metadata": {},
   "outputs": [
    {
     "data": {
      "text/html": [
       "<div>\n",
       "<style scoped>\n",
       "    .dataframe tbody tr th:only-of-type {\n",
       "        vertical-align: middle;\n",
       "    }\n",
       "\n",
       "    .dataframe tbody tr th {\n",
       "        vertical-align: top;\n",
       "    }\n",
       "\n",
       "    .dataframe thead th {\n",
       "        text-align: right;\n",
       "    }\n",
       "</style>\n",
       "<table border=\"1\" class=\"dataframe\">\n",
       "  <thead>\n",
       "    <tr style=\"text-align: right;\">\n",
       "      <th></th>\n",
       "      <th>ratings</th>\n",
       "      <th>reviews</th>\n",
       "      <th>label</th>\n",
       "    </tr>\n",
       "  </thead>\n",
       "  <tbody>\n",
       "    <tr>\n",
       "      <th>0</th>\n",
       "      <td>5</td>\n",
       "      <td>배공빠르고 굿</td>\n",
       "      <td>1</td>\n",
       "    </tr>\n",
       "    <tr>\n",
       "      <th>1</th>\n",
       "      <td>2</td>\n",
       "      <td>택배가 엉망이네용 저희집 밑에층에 말도없이 놔두고가고</td>\n",
       "      <td>0</td>\n",
       "    </tr>\n",
       "    <tr>\n",
       "      <th>2</th>\n",
       "      <td>5</td>\n",
       "      <td>아주좋아요 바지 정말 좋아서개 더 구매했어요 이가격에 대박입니다 바느질이 조금 엉성...</td>\n",
       "      <td>1</td>\n",
       "    </tr>\n",
       "    <tr>\n",
       "      <th>3</th>\n",
       "      <td>2</td>\n",
       "      <td>선물용으로 빨리 받아서 전달했어야 하는 상품이었는데 머그컵만 와서 당황했습니다 전화...</td>\n",
       "      <td>0</td>\n",
       "    </tr>\n",
       "    <tr>\n",
       "      <th>4</th>\n",
       "      <td>5</td>\n",
       "      <td>민트색상 예뻐요 옆 손잡이는 거는 용도로도 사용되네요 ㅎㅎ</td>\n",
       "      <td>1</td>\n",
       "    </tr>\n",
       "  </tbody>\n",
       "</table>\n",
       "</div>"
      ],
      "text/plain": [
       "   ratings                                            reviews  label\n",
       "0        5                                            배공빠르고 굿      1\n",
       "1        2                      택배가 엉망이네용 저희집 밑에층에 말도없이 놔두고가고      0\n",
       "2        5  아주좋아요 바지 정말 좋아서개 더 구매했어요 이가격에 대박입니다 바느질이 조금 엉성...      1\n",
       "3        2  선물용으로 빨리 받아서 전달했어야 하는 상품이었는데 머그컵만 와서 당황했습니다 전화...      0\n",
       "4        5                   민트색상 예뻐요 옆 손잡이는 거는 용도로도 사용되네요 ㅎㅎ      1"
      ]
     },
     "execution_count": 17,
     "metadata": {},
     "output_type": "execute_result"
    }
   ],
   "source": [
    "total_data['label'] = np.select([total_data.ratings > 3], [1], default=0)\n",
    "total_data[:5]"
   ]
  },
  {
   "cell_type": "markdown",
   "id": "a4ae712b-71c1-48d7-ad7d-6e9edd2bc01d",
   "metadata": {},
   "source": [
    "## Split train and test data as a ratio of 3:1"
   ]
  },
  {
   "cell_type": "code",
   "execution_count": 18,
   "id": "9f796337-971a-4f3b-9c51-c089d834fa77",
   "metadata": {},
   "outputs": [
    {
     "name": "stdout",
     "output_type": "stream",
     "text": [
      "훈련용 리뷰의 개수 : 197638\n",
      "테스트용 리뷰의 개수 : 65880\n"
     ]
    },
    {
     "data": {
      "text/plain": [
       "'\\n훈련용 리뷰의 개수 : 197638\\n테스트용 리뷰의 개수 : 65880\\n'"
      ]
     },
     "execution_count": 18,
     "metadata": {},
     "output_type": "execute_result"
    }
   ],
   "source": [
    "train_data, test_data = train_test_split(total_data, test_size = 0.25, random_state = 42)\n",
    "print('훈련용 리뷰의 개수 :', len(train_data))\n",
    "print('테스트용 리뷰의 개수 :', len(test_data))\n",
    "\n",
    "\"\"\"\n",
    "훈련용 리뷰의 개수 : 197638\n",
    "테스트용 리뷰의 개수 : 65880\n",
    "\"\"\""
   ]
  },
  {
   "cell_type": "code",
   "execution_count": 19,
   "id": "ef792a28-d241-4a4e-9144-e42b51e74cb0",
   "metadata": {},
   "outputs": [
    {
     "name": "stdout",
     "output_type": "stream",
     "text": [
      "   label   count\n",
      "0      0   75604\n",
      "1      1  122034\n"
     ]
    },
    {
     "data": {
      "text/plain": [
       "'\\n   label   count\\n0      0   75604\\n1      1  122034\\n'"
      ]
     },
     "execution_count": 19,
     "metadata": {},
     "output_type": "execute_result"
    }
   ],
   "source": [
    "print(train_data.groupby('label').size().reset_index(name = 'count'))\n",
    "\n",
    "\"\"\"\n",
    "   label   count\n",
    "0      0   75604\n",
    "1      1  122034\n",
    "\"\"\""
   ]
  },
  {
   "cell_type": "markdown",
   "id": "08a9db52-8b2a-455d-b202-4ecc124748be",
   "metadata": {},
   "source": [
    "# 0. Tokenizing"
   ]
  },
  {
   "cell_type": "code",
   "execution_count": 20,
   "id": "f4e93ff3-4c8b-4d77-9c02-b86622db2906",
   "metadata": {},
   "outputs": [],
   "source": [
    "okt = Okt()\n",
    "stopwords = ['도', '는', '다', '의', '가', '이', '은', '한', '에', '하', '고', '을', '를', '인', '듯', '과', '와', '네', '들', '듯', '지', '임', '게', '좀', '으로', '하다', '걍', '네요', '잘']"
   ]
  },
  {
   "cell_type": "code",
   "execution_count": 21,
   "id": "2551bbe0-1244-49a3-b567-d1f1d59e9425",
   "metadata": {},
   "outputs": [],
   "source": [
    "train_data['tokenized'] = train_data['reviews'].apply(okt.morphs)\n",
    "train_data['tokenized'] = train_data['tokenized'].apply(lambda x: [item for item in x if item not in stopwords])"
   ]
  },
  {
   "cell_type": "code",
   "execution_count": 23,
   "id": "943af52b-ccee-46e7-a0ac-6f0417617c6c",
   "metadata": {},
   "outputs": [],
   "source": [
    "train_data.to_csv('./train_data_without_val_3.csv', index=False)"
   ]
  },
  {
   "cell_type": "code",
   "execution_count": 24,
   "id": "78885e91-ff70-48e6-9d61-aa5710b0ea89",
   "metadata": {},
   "outputs": [],
   "source": [
    "test_data['tokenized'] = test_data['reviews'].apply(okt.morphs)\n",
    "test_data['tokenized'] = test_data['tokenized'].apply(lambda x: [item for item in x if item not in stopwords])"
   ]
  },
  {
   "cell_type": "code",
   "execution_count": 25,
   "id": "d951062e-8d1b-423c-89d8-3c79b0da143d",
   "metadata": {},
   "outputs": [],
   "source": [
    "test_data.to_csv('./test_data_without_val_3.csv', index=False)"
   ]
  },
  {
   "cell_type": "code",
   "execution_count": null,
   "id": "764d863e-71ac-40b9-bda6-9307ca356856",
   "metadata": {},
   "outputs": [],
   "source": []
  },
  {
   "cell_type": "markdown",
   "id": "60554fb0-bb60-413a-ac0c-2c1af0ae33fe",
   "metadata": {},
   "source": [
    "##### --------------------------------------------------------------------------------------------------------------------------------------------------------------------------"
   ]
  },
  {
   "cell_type": "markdown",
   "id": "1cf4db9a-7d37-4f84-9701-010108042340",
   "metadata": {},
   "source": [
    "# 1.Load Data"
   ]
  },
  {
   "cell_type": "code",
   "execution_count": null,
   "id": "e6ffee61-2c26-450b-8291-efeef3837739",
   "metadata": {},
   "outputs": [],
   "source": [
    "#train_data = pd.read_csv('./train_data_without_val_3.csv')"
   ]
  },
  {
   "cell_type": "code",
   "execution_count": null,
   "id": "2771e4dc-db43-4fe7-a8fb-494734509a3a",
   "metadata": {},
   "outputs": [],
   "source": [
    "#test_data = pd.read_csv('./test_data_without_val_3.csv')"
   ]
  },
  {
   "cell_type": "markdown",
   "id": "96a83660-ba4c-4c10-9b70-0768400ee2e5",
   "metadata": {},
   "source": [
    "## split dataset for modeling"
   ]
  },
  {
   "cell_type": "code",
   "execution_count": 26,
   "id": "4182fad9-d3f3-4b42-b238-52c72a5c95dc",
   "metadata": {},
   "outputs": [],
   "source": [
    "X_train = train_data['tokenized'].values\n",
    "y_train = train_data['label'].values\n",
    "X_test= test_data['tokenized'].values\n",
    "y_test = test_data['label'].values"
   ]
  },
  {
   "cell_type": "markdown",
   "id": "352352bb-9134-40f8-ad69-f7942c927d30",
   "metadata": {},
   "source": [
    "# 2. Encoding"
   ]
  },
  {
   "cell_type": "code",
   "execution_count": 27,
   "id": "db3b78c7-f320-4262-b209-fb94051d19db",
   "metadata": {},
   "outputs": [],
   "source": [
    "tokenizer = Tokenizer()\n",
    "tokenizer.fit_on_texts(X_train)"
   ]
  },
  {
   "cell_type": "markdown",
   "id": "72c520fd-41a4-4ac9-9f2f-58d7e1df53c8",
   "metadata": {},
   "source": [
    "## eliminate some data appear less than 1 time"
   ]
  },
  {
   "cell_type": "code",
   "execution_count": 28,
   "id": "c186b779-e487-46c4-bba9-5ed807aaca30",
   "metadata": {},
   "outputs": [
    {
     "name": "stdout",
     "output_type": "stream",
     "text": [
      "단어 집합(vocabulary)의 크기 : 109621\n",
      "등장 빈도가 1번 이하인 희귀 단어의 수: 60146\n",
      "단어 집합에서 희귀 단어의 비율: 54.86722434570018\n",
      "전체 등장 빈도에서 희귀 단어 등장 빈도 비율: 2.326239796159109\n"
     ]
    }
   ],
   "source": [
    "threshold = 2\n",
    "total_cnt = len(tokenizer.word_index) # 단어의 수\n",
    "rare_cnt = 0 # 등장 빈도수가 threshold보다 작은 단어의 개수를 카운트\n",
    "total_freq = 0 # 훈련 데이터의 전체 단어 빈도수 총 합\n",
    "rare_freq = 0 # 등장 빈도수가 threshold보다 작은 단어의 등장 빈도수의 총 합\n",
    "\n",
    "# 단어와 빈도수의 쌍(pair)을 key와 value로 받는다.\n",
    "for key, value in tokenizer.word_counts.items():\n",
    "    total_freq = total_freq + value\n",
    "\n",
    "    # 단어의 등장 빈도수가 threshold보다 작으면\n",
    "    if(value < threshold):\n",
    "        rare_cnt = rare_cnt + 1\n",
    "        rare_freq = rare_freq + value\n",
    "\n",
    "print('단어 집합(vocabulary)의 크기 :',total_cnt)\n",
    "print('등장 빈도가 %s번 이하인 희귀 단어의 수: %s'%(threshold - 1, rare_cnt))\n",
    "print(\"단어 집합에서 희귀 단어의 비율:\", (rare_cnt / total_cnt)*100)\n",
    "print(\"전체 등장 빈도에서 희귀 단어 등장 빈도 비율:\", (rare_freq / total_freq)*100)"
   ]
  },
  {
   "cell_type": "code",
   "execution_count": 29,
   "id": "ef32985b-d6b6-4c2f-a5ee-d5f633b0b1b5",
   "metadata": {},
   "outputs": [
    {
     "name": "stdout",
     "output_type": "stream",
     "text": [
      "단어 집합의 크기 : 49477\n"
     ]
    }
   ],
   "source": [
    "# 전체 단어 개수 중 빈도수 2이하인 단어 개수는 제거.\n",
    "# 0번 패딩 토큰과 1번 OOV 토큰을 고려하여 +2\n",
    "\n",
    "vocab_size = total_cnt - rare_cnt + 2\n",
    "print('단어 집합의 크기 :',vocab_size)"
   ]
  },
  {
   "cell_type": "code",
   "execution_count": 30,
   "id": "c7ca79d0-9681-42cd-88b5-cae63969df7a",
   "metadata": {},
   "outputs": [],
   "source": [
    "# 단어 집합을 토크나이저의 인자로 넘겨주고, 텍스트 시퀀스를 정수 시퀀스로 변환. \n",
    "# 정수 인코딩 과정에서 이보다 큰 숫자가 부여된 단어들은 OOV로 변환.\n",
    "\n",
    "tokenizer = Tokenizer(vocab_size, oov_token = 'OOV') \n",
    "tokenizer.fit_on_texts(X_train)\n",
    "X_train = tokenizer.texts_to_sequences(X_train)\n",
    "X_test = tokenizer.texts_to_sequences(X_test)"
   ]
  },
  {
   "cell_type": "markdown",
   "id": "43d5a991-d5fc-4369-a080-a13ba9e22b26",
   "metadata": {},
   "source": [
    "## save tokenizer"
   ]
  },
  {
   "cell_type": "code",
   "execution_count": 31,
   "id": "37527dbe-3175-420d-ae38-1024589c03de",
   "metadata": {},
   "outputs": [],
   "source": [
    "# saving tokenizer\n",
    "\n",
    "with open('tokenizer.pickle', 'wb') as handle:\n",
    "    pickle.dump(tokenizer, handle, protocol=pickle.HIGHEST_PROTOCOL)"
   ]
  },
  {
   "cell_type": "markdown",
   "id": "5341fac0-559b-4ddb-b864-4b6723e0fef7",
   "metadata": {},
   "source": [
    "## save word index "
   ]
  },
  {
   "cell_type": "code",
   "execution_count": 32,
   "id": "83f2fa1f-918d-4842-aada-51d52052d5cc",
   "metadata": {},
   "outputs": [],
   "source": [
    "word_index = tokenizer.word_index"
   ]
  },
  {
   "cell_type": "code",
   "execution_count": 33,
   "id": "f2cfbb52-81c5-41fc-beb3-00febbf31ed2",
   "metadata": {},
   "outputs": [],
   "source": [
    "json = json.dumps(word_index)\n",
    "f3 = open(\"wordIndex.json\", \"w\")\n",
    "f3.write(json)\n",
    "f3.close()"
   ]
  },
  {
   "cell_type": "code",
   "execution_count": null,
   "id": "2bb4a7e1-7129-4447-ae66-2b22716501b1",
   "metadata": {},
   "outputs": [],
   "source": []
  },
  {
   "cell_type": "code",
   "execution_count": 34,
   "id": "0d9b3812-38a9-4df8-8cc0-491d7f30334e",
   "metadata": {},
   "outputs": [
    {
     "name": "stdout",
     "output_type": "stream",
     "text": [
      "[[4277, 28669, 180, 317, 4634, 622, 56, 6111, 777, 1790, 816, 100, 1218, 14, 20, 324, 648, 355, 7, 19, 15212, 1111, 3077, 28670, 290, 132, 1, 2049, 9, 354], [3, 36, 1825, 17], [15, 117, 96, 470, 26, 3720]]\n",
      "[[3, 1607, 798, 39, 102, 494, 456, 63, 1, 6539, 1], [33579, 1560, 2131, 368, 13433, 2132, 207, 211, 12175, 1, 214, 32, 6548, 24, 4572, 190, 1653, 83, 2, 2574, 1363, 550, 7, 1, 201], [4, 4, 316, 594, 4]]\n"
     ]
    }
   ],
   "source": [
    "# X_train과 X_test에 대해서 상위 3개의 샘플만 출력\n",
    "\n",
    "print(X_train[:3])\n",
    "print(X_test[:3])"
   ]
  },
  {
   "cell_type": "markdown",
   "id": "aaf611c7-5d36-47cd-800c-141774e82777",
   "metadata": {},
   "source": [
    "# 3. Padding"
   ]
  },
  {
   "cell_type": "code",
   "execution_count": 35,
   "id": "229a2ce9-b1aa-4244-80f1-02d6944a07d6",
   "metadata": {},
   "outputs": [],
   "source": [
    "def below_threshold_len(max_len, nested_list):\n",
    "  count = 0\n",
    "  for sentence in nested_list:\n",
    "    if(len(sentence) <= max_len):\n",
    "        count = count + 1\n",
    "  print('전체 샘플 중 길이가 %s 이하인 샘플의 비율: %s'%(max_len, (count / len(nested_list))*100))"
   ]
  },
  {
   "cell_type": "code",
   "execution_count": 36,
   "id": "de535780-e530-4df2-bc0e-ded60b447840",
   "metadata": {},
   "outputs": [
    {
     "name": "stdout",
     "output_type": "stream",
     "text": [
      "전체 샘플 중 길이가 80 이하인 샘플의 비율: 99.62608405266194\n"
     ]
    }
   ],
   "source": [
    "max_len = 80\n",
    "below_threshold_len(max_len, X_train)\n",
    "\n",
    "# => 훈련용 리뷰의 99.99%가 80이하의 길이를 가짐"
   ]
  },
  {
   "cell_type": "code",
   "execution_count": 37,
   "id": "2530ae2d-9148-41cf-a0c7-5ac424ef7955",
   "metadata": {},
   "outputs": [],
   "source": [
    "# 훈련용 리뷰를 길이 80으로 패딩\n",
    "\n",
    "X_train = pad_sequences(X_train, maxlen=max_len)\n",
    "X_test = pad_sequences(X_test, maxlen=max_len)"
   ]
  },
  {
   "cell_type": "code",
   "execution_count": 38,
   "id": "cc7b94f5-471b-4fb9-acab-567929b7ab31",
   "metadata": {},
   "outputs": [
    {
     "name": "stdout",
     "output_type": "stream",
     "text": [
      "[[    0     0     0     0     0     0     0     0     0     0     0     0\n",
      "      0     0     0     0     0     0     0     0     0     0     0     0\n",
      "      0     0     0     0     0     0     0     0     0     0     0     0\n",
      "      0     0     0     0     0     0     0     0     0     0     0     0\n",
      "      0     0  4277 28669   180   317  4634   622    56  6111   777  1790\n",
      "    816   100  1218    14    20   324   648   355     7    19 15212  1111\n",
      "   3077 28670   290   132     1  2049     9   354]\n",
      " [    0     0     0     0     0     0     0     0     0     0     0     0\n",
      "      0     0     0     0     0     0     0     0     0     0     0     0\n",
      "      0     0     0     0     0     0     0     0     0     0     0     0\n",
      "      0     0     0     0     0     0     0     0     0     0     0     0\n",
      "      0     0     0     0     0     0     0     0     0     0     0     0\n",
      "      0     0     0     0     0     0     0     0     0     0     0     0\n",
      "      0     0     0     0     3    36  1825    17]\n",
      " [    0     0     0     0     0     0     0     0     0     0     0     0\n",
      "      0     0     0     0     0     0     0     0     0     0     0     0\n",
      "      0     0     0     0     0     0     0     0     0     0     0     0\n",
      "      0     0     0     0     0     0     0     0     0     0     0     0\n",
      "      0     0     0     0     0     0     0     0     0     0     0     0\n",
      "      0     0     0     0     0     0     0     0     0     0     0     0\n",
      "      0     0    15   117    96   470    26  3720]]\n"
     ]
    }
   ],
   "source": [
    "print(X_train[:3])"
   ]
  },
  {
   "cell_type": "code",
   "execution_count": 39,
   "id": "19a03623-76f1-45c3-b4c8-ccdd6bdf4f13",
   "metadata": {},
   "outputs": [
    {
     "name": "stdout",
     "output_type": "stream",
     "text": [
      "데이터 텐서의 크기: (197638, 80)\n",
      "레이블 텐서의 크기: (65880, 80)\n"
     ]
    }
   ],
   "source": [
    "labels = np.asarray(X_test)\n",
    "print('데이터 텐서의 크기:', X_train.shape)\n",
    "print('레이블 텐서의 크기:', labels.shape)"
   ]
  },
  {
   "cell_type": "markdown",
   "id": "ac571553-8e23-46b1-8406-bc9ded9f7917",
   "metadata": {},
   "source": [
    "# 8. Model GRU"
   ]
  },
  {
   "cell_type": "code",
   "execution_count": 40,
   "id": "c9bd01ec-3878-4f58-a8a3-69b9d84834d0",
   "metadata": {},
   "outputs": [],
   "source": [
    "import tensorflow\n",
    "from tensorflow.keras.layers import Embedding, Dense, GRU\n",
    "from tensorflow.keras.models import Sequential\n",
    "from tensorflow.keras.models import load_model\n",
    "from tensorflow.keras.callbacks import EarlyStopping, ModelCheckpoint"
   ]
  },
  {
   "cell_type": "code",
   "execution_count": 41,
   "id": "a8f7f8e1-c642-4f32-9317-c3d4d69fbcd3",
   "metadata": {
    "tags": []
   },
   "outputs": [
    {
     "name": "stdout",
     "output_type": "stream",
     "text": [
      "/device:GPU:0\n"
     ]
    },
    {
     "name": "stderr",
     "output_type": "stream",
     "text": [
      "2022-06-21 02:58:20.266148: I tensorflow/core/platform/cpu_feature_guard.cc:151] This TensorFlow binary is optimized with oneAPI Deep Neural Network Library (oneDNN) to use the following CPU instructions in performance-critical operations:  AVX2 AVX512F FMA\n",
      "To enable them in other operations, rebuild TensorFlow with the appropriate compiler flags.\n",
      "2022-06-21 02:58:20.991061: I tensorflow/stream_executor/cuda/cuda_gpu_executor.cc:936] successful NUMA node read from SysFS had negative value (-1), but there must be at least one NUMA node, so returning NUMA node zero\n",
      "2022-06-21 02:58:21.002303: I tensorflow/stream_executor/cuda/cuda_gpu_executor.cc:936] successful NUMA node read from SysFS had negative value (-1), but there must be at least one NUMA node, so returning NUMA node zero\n",
      "2022-06-21 02:58:21.002911: I tensorflow/stream_executor/cuda/cuda_gpu_executor.cc:936] successful NUMA node read from SysFS had negative value (-1), but there must be at least one NUMA node, so returning NUMA node zero\n",
      "2022-06-21 02:58:21.490091: I tensorflow/stream_executor/cuda/cuda_gpu_executor.cc:936] successful NUMA node read from SysFS had negative value (-1), but there must be at least one NUMA node, so returning NUMA node zero\n",
      "2022-06-21 02:58:21.490798: I tensorflow/stream_executor/cuda/cuda_gpu_executor.cc:936] successful NUMA node read from SysFS had negative value (-1), but there must be at least one NUMA node, so returning NUMA node zero\n",
      "2022-06-21 02:58:21.491394: I tensorflow/stream_executor/cuda/cuda_gpu_executor.cc:936] successful NUMA node read from SysFS had negative value (-1), but there must be at least one NUMA node, so returning NUMA node zero\n",
      "2022-06-21 02:58:21.491965: I tensorflow/core/common_runtime/gpu/gpu_device.cc:1525] Created device /device:GPU:0 with 13823 MB memory:  -> device: 0, name: Tesla T4, pci bus id: 0000:00:04.0, compute capability: 7.5\n"
     ]
    }
   ],
   "source": [
    "print(tensorflow.test.gpu_device_name())"
   ]
  },
  {
   "cell_type": "markdown",
   "id": "6e93798e-86b2-4d85-9b5c-7d3d5afc7840",
   "metadata": {
    "tags": []
   },
   "source": [
    "## training"
   ]
  },
  {
   "cell_type": "code",
   "execution_count": 42,
   "id": "3a05dc2d-d465-44d5-897d-4d74d39ad14c",
   "metadata": {},
   "outputs": [
    {
     "name": "stderr",
     "output_type": "stream",
     "text": [
      "2022-06-21 02:58:28.974349: I tensorflow/stream_executor/cuda/cuda_gpu_executor.cc:936] successful NUMA node read from SysFS had negative value (-1), but there must be at least one NUMA node, so returning NUMA node zero\n",
      "2022-06-21 02:58:28.975109: I tensorflow/stream_executor/cuda/cuda_gpu_executor.cc:936] successful NUMA node read from SysFS had negative value (-1), but there must be at least one NUMA node, so returning NUMA node zero\n",
      "2022-06-21 02:58:28.975736: I tensorflow/stream_executor/cuda/cuda_gpu_executor.cc:936] successful NUMA node read from SysFS had negative value (-1), but there must be at least one NUMA node, so returning NUMA node zero\n",
      "2022-06-21 02:58:28.976677: I tensorflow/stream_executor/cuda/cuda_gpu_executor.cc:936] successful NUMA node read from SysFS had negative value (-1), but there must be at least one NUMA node, so returning NUMA node zero\n",
      "2022-06-21 02:58:28.977393: I tensorflow/stream_executor/cuda/cuda_gpu_executor.cc:936] successful NUMA node read from SysFS had negative value (-1), but there must be at least one NUMA node, so returning NUMA node zero\n",
      "2022-06-21 02:58:28.978035: I tensorflow/stream_executor/cuda/cuda_gpu_executor.cc:936] successful NUMA node read from SysFS had negative value (-1), but there must be at least one NUMA node, so returning NUMA node zero\n",
      "2022-06-21 02:58:28.978727: I tensorflow/stream_executor/cuda/cuda_gpu_executor.cc:936] successful NUMA node read from SysFS had negative value (-1), but there must be at least one NUMA node, so returning NUMA node zero\n",
      "2022-06-21 02:58:28.979314: I tensorflow/stream_executor/cuda/cuda_gpu_executor.cc:936] successful NUMA node read from SysFS had negative value (-1), but there must be at least one NUMA node, so returning NUMA node zero\n",
      "2022-06-21 02:58:28.979857: I tensorflow/core/common_runtime/gpu/gpu_device.cc:1525] Created device /job:localhost/replica:0/task:0/device:GPU:0 with 13823 MB memory:  -> device: 0, name: Tesla T4, pci bus id: 0000:00:04.0, compute capability: 7.5\n"
     ]
    },
    {
     "name": "stdout",
     "output_type": "stream",
     "text": [
      "Epoch 1/15\n"
     ]
    },
    {
     "name": "stderr",
     "output_type": "stream",
     "text": [
      "2022-06-21 02:58:33.107999: I tensorflow/stream_executor/cuda/cuda_dnn.cc:368] Loaded cuDNN version 8200\n"
     ]
    },
    {
     "name": "stdout",
     "output_type": "stream",
     "text": [
      "2470/2471 [============================>.] - ETA: 0s - loss: 0.2393 - acc: 0.9084\n",
      "Epoch 1: val_acc improved from -inf to 0.92297, saving model to gru_best_model.h5\n",
      "2471/2471 [==============================] - 26s 8ms/step - loss: 0.2393 - acc: 0.9084 - val_loss: 0.2049 - val_acc: 0.9230\n",
      "Epoch 2/15\n",
      "2466/2471 [============================>.] - ETA: 0s - loss: 0.1919 - acc: 0.9311\n",
      "Epoch 2: val_acc improved from 0.92297 to 0.92805, saving model to gru_best_model.h5\n",
      "2471/2471 [==============================] - 18s 7ms/step - loss: 0.1919 - acc: 0.9312 - val_loss: 0.1943 - val_acc: 0.9281\n",
      "Epoch 3/15\n",
      "2467/2471 [============================>.] - ETA: 0s - loss: 0.1747 - acc: 0.9389\n",
      "Epoch 3: val_acc improved from 0.92805 to 0.92863, saving model to gru_best_model.h5\n",
      "2471/2471 [==============================] - 18s 7ms/step - loss: 0.1748 - acc: 0.9388 - val_loss: 0.1938 - val_acc: 0.9286\n",
      "Epoch 4/15\n",
      "2466/2471 [============================>.] - ETA: 0s - loss: 0.1620 - acc: 0.9442\n",
      "Epoch 4: val_acc improved from 0.92863 to 0.92881, saving model to gru_best_model.h5\n",
      "2471/2471 [==============================] - 18s 7ms/step - loss: 0.1621 - acc: 0.9442 - val_loss: 0.1928 - val_acc: 0.9288\n",
      "Epoch 5/15\n",
      "2470/2471 [============================>.] - ETA: 0s - loss: 0.1520 - acc: 0.9477\n",
      "Epoch 5: val_acc did not improve from 0.92881\n",
      "2471/2471 [==============================] - 18s 7ms/step - loss: 0.1520 - acc: 0.9477 - val_loss: 0.1956 - val_acc: 0.9287\n",
      "Epoch 6/15\n",
      "2465/2471 [============================>.] - ETA: 0s - loss: 0.1427 - acc: 0.9518\n",
      "Epoch 6: val_acc improved from 0.92881 to 0.92995, saving model to gru_best_model.h5\n",
      "2471/2471 [==============================] - 18s 7ms/step - loss: 0.1427 - acc: 0.9518 - val_loss: 0.1947 - val_acc: 0.9299\n",
      "Epoch 7/15\n",
      "2464/2471 [============================>.] - ETA: 0s - loss: 0.1338 - acc: 0.9548\n",
      "Epoch 7: val_acc did not improve from 0.92995\n",
      "2471/2471 [==============================] - 18s 7ms/step - loss: 0.1339 - acc: 0.9548 - val_loss: 0.1979 - val_acc: 0.9288\n",
      "Epoch 8/15\n",
      "2465/2471 [============================>.] - ETA: 0s - loss: 0.1248 - acc: 0.9585\n",
      "Epoch 8: val_acc did not improve from 0.92995\n",
      "2471/2471 [==============================] - 18s 7ms/step - loss: 0.1249 - acc: 0.9585 - val_loss: 0.2099 - val_acc: 0.9270\n",
      "Epoch 8: early stopping\n"
     ]
    }
   ],
   "source": [
    "embedding_dim = 100\n",
    "hidden_units = 128\n",
    "\n",
    "model = Sequential()\n",
    "model.add(Embedding(vocab_size, embedding_dim))\n",
    "model.add(GRU(hidden_units))\n",
    "model.add(Dense(1, activation='sigmoid'))\n",
    "\n",
    "es = EarlyStopping(monitor='val_loss', mode='min', verbose=1, patience=4)\n",
    "mc = ModelCheckpoint('gru_best_model.h5', monitor='val_acc', mode='max', verbose=1, save_best_only=True)\n",
    "\n",
    "model.compile(optimizer='rmsprop', loss='binary_crossentropy', metrics=['acc'])\n",
    "history = model.fit(X_train, y_train, epochs=15, callbacks=[es, mc], batch_size=64, validation_split=0.2)"
   ]
  },
  {
   "cell_type": "code",
   "execution_count": 43,
   "id": "3d2297b0-ce93-443e-b649-86527f2145e8",
   "metadata": {},
   "outputs": [
    {
     "name": "stdout",
     "output_type": "stream",
     "text": [
      "2059/2059 [==============================] - 7s 3ms/step - loss: 0.1983 - acc: 0.9292\n",
      "\n",
      " 테스트 정확도: 0.9292\n"
     ]
    }
   ],
   "source": [
    "gru_loaded_model = load_model('gru_best_model.h5')\n",
    "print(\"\\n 테스트 정확도: %.4f\" % (gru_loaded_model.evaluate(X_test, y_test)[1]))"
   ]
  },
  {
   "cell_type": "markdown",
   "id": "c49c4a89-c33e-40dd-b6c1-ff4a7b58ba8b",
   "metadata": {},
   "source": [
    "## predict with the trained GRU model"
   ]
  },
  {
   "cell_type": "code",
   "execution_count": 44,
   "id": "d54f2c0f-742a-43e0-97cc-f6691347477c",
   "metadata": {},
   "outputs": [],
   "source": [
    "okt = Okt()\n",
    "stopwords = ['도', '는', '다', '의', '가', '이', '은', '한', '에', '하', '고', '을', '를', '인', '듯', '과', '와', '네', '들', '듯', '지', '임', '게', '좀', '으로', '하다', '걍', '네요', '잘']"
   ]
  },
  {
   "cell_type": "code",
   "execution_count": 45,
   "id": "35c5ab57-b6fe-4519-ac87-23967aaa108d",
   "metadata": {},
   "outputs": [],
   "source": [
    "def gru_predict(new_sentence):\n",
    "    new_sentence = re.sub(r'[^ㄱ-ㅎㅏ-ㅣ가-힣 ]','', new_sentence)\n",
    "    new_sentence = okt.morphs(new_sentence)\n",
    "    new_sentence = [word for word in new_sentence if not word in stopwords]\n",
    "    encoded = tokenizer.texts_to_sequences([new_sentence])\n",
    "    pad_new = pad_sequences(encoded, maxlen = max_len)\n",
    "\n",
    "    score = float(gru_loaded_model.predict(pad_new))\n",
    "    if(score > 0.5):\n",
    "        print(\"{:.2f}% 확률로 긍정 리뷰입니다.\".format(score * 100))\n",
    "    else:\n",
    "        print(\"{:.2f}% 확률로 부정 리뷰입니다.\".format((1 - score) * 100))"
   ]
  },
  {
   "cell_type": "code",
   "execution_count": 46,
   "id": "d0a9fe6f-6a6b-4a56-b1cc-215433fbbdf9",
   "metadata": {},
   "outputs": [
    {
     "name": "stdout",
     "output_type": "stream",
     "text": [
      "99.89% 확률로 긍정 리뷰입니다.\n"
     ]
    }
   ],
   "source": [
    "gru_predict('각 관절마다 원터치 폴딩 방식의 오토형 쉘터이다보니 역시나 피칭과 정리가 간편하여 요즘 같이 더워지는 시기에 사용하기 너무 안성맞춤 입니다.')"
   ]
  },
  {
   "cell_type": "code",
   "execution_count": 47,
   "id": "0c64f60c-848b-4b91-b494-d07a41253a88",
   "metadata": {},
   "outputs": [
    {
     "name": "stdout",
     "output_type": "stream",
     "text": [
      "89.42% 확률로 부정 리뷰입니다.\n"
     ]
    }
   ],
   "source": [
    "gru_predict('익숙하지 않아서 인지 조금 힘드네요~ㅜ 도킹을 안해서인지 팩을 가이라인까지 10개나 박았는데 다른텐트에 비해 너무 펄럭입니다. 바람4인데 뒤집어 질뻔 했어요~ 버티겠지요? 카프리콘도 주문했는데 살짤 고민되네요...')"
   ]
  },
  {
   "cell_type": "code",
   "execution_count": 48,
   "id": "ef3188d5-f811-4799-80b1-675b4bef309f",
   "metadata": {},
   "outputs": [
    {
     "name": "stdout",
     "output_type": "stream",
     "text": [
      "93.03% 확률로 부정 리뷰입니다.\n"
     ]
    }
   ],
   "source": [
    "gru_predict('답답하구 이너안으로 전기선 넣는곳도 없구 비효율적입니다. 비추에요')"
   ]
  },
  {
   "cell_type": "markdown",
   "id": "0b189b06-56d6-4a03-ae73-6ae51d11d438",
   "metadata": {},
   "source": [
    "# 9. Save the trained GRU model"
   ]
  },
  {
   "cell_type": "code",
   "execution_count": 49,
   "id": "95ed4c68-5d37-4539-88e0-ad7e7110bcf0",
   "metadata": {},
   "outputs": [],
   "source": [
    "from tensorflow import keras\n",
    "import os"
   ]
  },
  {
   "cell_type": "code",
   "execution_count": 50,
   "id": "7b66771d-cc9c-47b5-aca9-4a195469fb36",
   "metadata": {},
   "outputs": [
    {
     "name": "stdout",
     "output_type": "stream",
     "text": [
      "export_path = gru_review_saved_model_0621/1\n",
      "\n"
     ]
    },
    {
     "name": "stderr",
     "output_type": "stream",
     "text": [
      "2022-06-21 03:02:11.524513: W tensorflow/python/util/util.cc:368] Sets are not currently considered sequences, but this may change in the future, so consider avoiding using them.\n",
      "WARNING:absl:Found untraced functions such as gru_cell_layer_call_fn, gru_cell_layer_call_and_return_conditional_losses while saving (showing 2 of 2). These functions will not be directly callable after loading.\n"
     ]
    },
    {
     "name": "stdout",
     "output_type": "stream",
     "text": [
      "INFO:tensorflow:Assets written to: gru_review_saved_model_0621/1/assets\n"
     ]
    },
    {
     "name": "stderr",
     "output_type": "stream",
     "text": [
      "INFO:tensorflow:Assets written to: gru_review_saved_model_0621/1/assets\n",
      "WARNING:absl:<keras.layers.recurrent.GRUCell object at 0x7f2788b126d0> has the same name 'GRUCell' as a built-in Keras object. Consider renaming <class 'keras.layers.recurrent.GRUCell'> to avoid naming conflicts when loading with `tf.keras.models.load_model`. If renaming is not possible, pass the object in the `custom_objects` parameter of the load function.\n"
     ]
    }
   ],
   "source": [
    "# save the model as  SavedModel format\n",
    "SAVED_MODEL_PATH = 'gru_review_saved_model_0621'\n",
    "#make_directory(SAVED_MODEL_PATH)\n",
    "MODEL_DIR = SAVED_MODEL_PATH\n",
    "\n",
    "version = 1\n",
    "export_path = os.path.join(MODEL_DIR, str(version))\n",
    "print('export_path = {}\\n'.format(export_path))\n",
    "\n",
    "\n",
    "tensorflow.keras.models.save_model(\n",
    "  model,\n",
    "  export_path,\n",
    "  overwrite=True,\n",
    "  include_optimizer=True,\n",
    "  save_format=None,\n",
    "  signatures=None,\n",
    "  options=None\n",
    ")"
   ]
  },
  {
   "cell_type": "code",
   "execution_count": null,
   "id": "d613f8cc-2fc0-41d5-93d4-4ff7a52f09b4",
   "metadata": {},
   "outputs": [],
   "source": []
  },
  {
   "cell_type": "code",
   "execution_count": null,
   "id": "c0985cf1-295b-4114-bfea-b8b7d50ca076",
   "metadata": {},
   "outputs": [],
   "source": []
  },
  {
   "cell_type": "code",
   "execution_count": null,
   "id": "62210281-84cd-45ee-a975-2dc6a9b667e1",
   "metadata": {},
   "outputs": [],
   "source": []
  },
  {
   "cell_type": "code",
   "execution_count": null,
   "id": "05f5b4a3-8bef-4225-bc2e-361f964a4e43",
   "metadata": {},
   "outputs": [],
   "source": []
  }
 ],
 "metadata": {
  "environment": {
   "kernel": "python3",
   "name": "tf2-gpu.2-8.m93",
   "type": "gcloud",
   "uri": "gcr.io/deeplearning-platform-release/tf2-gpu.2-8:m93"
  },
  "kernelspec": {
   "display_name": "Python 3",
   "language": "python",
   "name": "python3"
  },
  "language_info": {
   "codemirror_mode": {
    "name": "ipython",
    "version": 3
   },
   "file_extension": ".py",
   "mimetype": "text/x-python",
   "name": "python",
   "nbconvert_exporter": "python",
   "pygments_lexer": "ipython3",
   "version": "3.7.12"
  }
 },
 "nbformat": 4,
 "nbformat_minor": 5
}
